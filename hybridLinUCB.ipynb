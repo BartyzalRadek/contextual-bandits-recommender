{
 "cells": [
  {
   "cell_type": "code",
   "execution_count": 1,
   "metadata": {
    "collapsed": true
   },
   "outputs": [],
   "source": [
    "%matplotlib inline\n",
    "\n",
    "from movielens import MovieLens\n",
    "from hybridLinUCB import HybridLinUCB\n",
    "import numpy as np\n",
    "import matplotlib.pyplot as plt"
   ]
  },
  {
   "cell_type": "code",
   "execution_count": 2,
   "metadata": {
    "collapsed": false
   },
   "outputs": [
    {
     "name": "stdout",
     "output_type": "stream",
     "text": [
      "data\\movielens\\ml-100k.zip is already downloaded.\n",
      "Created a rating matrix of shape=(943, 1682) and dtype=float64 from u.data.\n",
      "Positive ratings (>=4) turned to 1, negative to -1, unknown to 0\n",
      "Created a genre matrix of shape=(1682, 19) and dtype=float64 from u.item.\n",
      "Created a titles matrix of shape=(1682,) and dtype=object from u.item.\n",
      "Statistics about self.R:\n",
      "Number of users:           943\n",
      "Number of items:           1682\n",
      "Total number of ratings:   1586126\n",
      "Known ratings:             100000\n",
      "Known positive ratings:    55375\n",
      "Known negative ratings:    44625\n",
      "Ratio of known ratings:    0.06304669364224531\n",
      "Ratio of positive ratings: 0.034912106604393346\n",
      "Ratio of negative ratings: 0.028134587037851974\n",
      "Avg number of positive ratings per user: 58.72216330858961 +- 54.67211827074995\n",
      "Avg number of negative ratings per user: 47.32237539766702 +- 58.41143787053165\n",
      "Shrinked rating matrix from (943, 1682) to (56, 100).\n",
      "\n",
      "After shrinking:\n",
      "Number of users:           56\n",
      "Number of items:           100\n",
      "Total number of ratings:   5600\n",
      "Known ratings:             903\n",
      "Known positive ratings:    606\n",
      "Known negative ratings:    297\n",
      "Ratio of known ratings:    0.16125\n",
      "Ratio of positive ratings: 0.10821428571428572\n",
      "Ratio of negative ratings: 0.05303571428571428\n",
      "Avg number of positive ratings per user: 10.821428571428571 +- 11.918034268130233\n",
      "Avg number of negative ratings per user: 5.303571428571429 +- 8.209140469312118\n",
      "\n",
      "Initializing matrix A of shape (100, 119, 119) which will require 11.3288MB of memory.\n",
      "\n",
      "LinUCB successfully initialized.\n"
     ]
    }
   ],
   "source": [
    "ucb = HybridLinUCB(alpha=0.1, dataset=None, max_items=100, allow_selecting_known_arms=True)"
   ]
  },
  {
   "cell_type": "code",
   "execution_count": 3,
   "metadata": {
    "collapsed": false
   },
   "outputs": [
    {
     "name": "stdout",
     "output_type": "stream",
     "text": [
      "R:\n",
      " [[ 1. -1.  1. ...,  1. -1.  1.]\n",
      " [ 1.  0.  0. ...,  0.  0.  1.]\n",
      " [ 0.  0.  0. ...,  0.  0.  0.]\n",
      " ..., \n",
      " [ 1.  0.  0. ...,  0.  0.  1.]\n",
      " [ 0.  0.  0. ...,  0.  0.  0.]\n",
      " [ 1.  0.  0. ...,  1.  0.  0.]]\n"
     ]
    }
   ],
   "source": [
    "print('R:\\n', ucb.dataset.R)"
   ]
  },
  {
   "cell_type": "code",
   "execution_count": 4,
   "metadata": {
    "collapsed": false
   },
   "outputs": [
    {
     "name": "stdout",
     "output_type": "stream",
     "text": [
      "Finished epoch 0/50 with avg reward 0.17857142857142858 in 2.101663589477539s\n",
      "Finished epoch 1/50 with avg reward 0.30357142857142855 in 2.031374454498291s\n",
      "Finished epoch 2/50 with avg reward 0.32142857142857145 in 2.1175248622894287s\n",
      "Finished epoch 3/50 with avg reward 0.6607142857142857 in 2.0589301586151123s\n",
      "Finished epoch 4/50 with avg reward 0.6785714285714286 in 2.0235373973846436s\n",
      "Finished epoch 5/50 with avg reward 0.7857142857142857 in 2.002182722091675s\n",
      "Finished epoch 6/50 with avg reward 0.8392857142857143 in 2.0761942863464355s\n",
      "Finished epoch 7/50 with avg reward 0.8392857142857143 in 2.0959410667419434s\n",
      "Finished epoch 8/50 with avg reward 0.8392857142857143 in 2.0377089977264404s\n",
      "Finished epoch 9/50 with avg reward 0.7678571428571429 in 2.1810145378112793s\n",
      "Finished epoch 10/50 with avg reward 0.8214285714285714 in 2.0558791160583496s\n",
      "Finished epoch 11/50 with avg reward 0.8571428571428571 in 2.0515427589416504s\n",
      "Finished epoch 12/50 with avg reward 0.875 in 2.0014231204986572s\n",
      "Finished epoch 13/50 with avg reward 0.8928571428571429 in 2.2048466205596924s\n",
      "Finished epoch 14/50 with avg reward 0.8928571428571429 in 2.030898332595825s\n",
      "Finished epoch 15/50 with avg reward 0.875 in 2.0931248664855957s\n",
      "Finished epoch 16/50 with avg reward 0.9107142857142857 in 2.092973232269287s\n",
      "Finished epoch 17/50 with avg reward 0.9285714285714286 in 2.026848554611206s\n",
      "Finished epoch 18/50 with avg reward 0.8571428571428571 in 2.0074634552001953s\n",
      "Finished epoch 19/50 with avg reward 0.8928571428571429 in 2.0128588676452637s\n",
      "Finished epoch 20/50 with avg reward 0.875 in 2.026822566986084s\n",
      "Finished epoch 21/50 with avg reward 0.8571428571428571 in 2.004503011703491s\n",
      "Finished epoch 22/50 with avg reward 0.9642857142857143 in 2.0436203479766846s\n",
      "Finished epoch 23/50 with avg reward 0.9642857142857143 in 2.058168888092041s\n",
      "Finished epoch 24/50 with avg reward 0.9464285714285714 in 2.0330703258514404s\n",
      "Finished epoch 25/50 with avg reward 0.9642857142857143 in 2.0837957859039307s\n",
      "Finished epoch 26/50 with avg reward 0.9642857142857143 in 2.030083417892456s\n",
      "Finished epoch 27/50 with avg reward 0.875 in 2.0292470455169678s\n",
      "Finished epoch 28/50 with avg reward 0.8928571428571429 in 2.0815584659576416s\n",
      "Finished epoch 29/50 with avg reward 0.875 in 2.045437812805176s\n",
      "Finished epoch 30/50 with avg reward 0.8928571428571429 in 2.044133186340332s\n",
      "Finished epoch 31/50 with avg reward 0.8928571428571429 in 2.0807995796203613s\n",
      "Finished epoch 32/50 with avg reward 0.9642857142857143 in 2.0485422611236572s\n",
      "Finished epoch 33/50 with avg reward 0.9642857142857143 in 2.0765299797058105s\n",
      "Finished epoch 34/50 with avg reward 0.9285714285714286 in 2.120589256286621s\n",
      "Finished epoch 35/50 with avg reward 0.9285714285714286 in 2.0868279933929443s\n",
      "Finished epoch 36/50 with avg reward 0.9107142857142857 in 2.0055532455444336s\n",
      "Finished epoch 37/50 with avg reward 0.9464285714285714 in 2.0223567485809326s\n",
      "Finished epoch 38/50 with avg reward 0.9464285714285714 in 2.0297882556915283s\n",
      "Finished epoch 39/50 with avg reward 0.875 in 2.0488224029541016s\n",
      "Finished epoch 40/50 with avg reward 0.8928571428571429 in 2.0766401290893555s\n",
      "Finished epoch 41/50 with avg reward 0.9285714285714286 in 2.0460307598114014s\n",
      "Finished epoch 42/50 with avg reward 0.9642857142857143 in 2.0310158729553223s\n",
      "Finished epoch 43/50 with avg reward 0.9107142857142857 in 2.032348394393921s\n",
      "Finished epoch 44/50 with avg reward 0.8571428571428571 in 2.1176130771636963s\n",
      "Finished epoch 45/50 with avg reward 0.8928571428571429 in 2.0939083099365234s\n",
      "Finished epoch 46/50 with avg reward 0.9107142857142857 in 2.0240097045898438s\n",
      "Finished epoch 47/50 with avg reward 0.8928571428571429 in 2.031327247619629s\n",
      "Finished epoch 48/50 with avg reward 0.875 in 2.031672477722168s\n",
      "Finished epoch 49/50 with avg reward 0.8928571428571429 in 2.0142669677734375s\n"
     ]
    }
   ],
   "source": [
    "avg_reward = ucb.run(num_epochs=50)"
   ]
  },
  {
   "cell_type": "code",
   "execution_count": 6,
   "metadata": {
    "collapsed": false
   },
   "outputs": [
    {
     "data": {
      "text/plain": [
       "<matplotlib.text.Text at 0x24f7cea3908>"
      ]
     },
     "execution_count": 6,
     "metadata": {},
     "output_type": "execute_result"
    },
    {
     "data": {
      "image/png": "[encoded data removed]",
      "text/plain": [
       "<matplotlib.figure.Figure at 0x24f7ce1f630>"
      ]
     },
     "metadata": {},
     "output_type": "display_data"
    }
   ],
   "source": [
    "plt.plot(range(len(avg_reward)), avg_reward)\n",
    "plt.ylabel('avg reward')\n",
    "plt.xlabel('epoch (1 epoch = recommended to all users)')\n",
    "plt.title('HybridLinUCB: Average reward per epoch')"
   ]
  },
  {
   "cell_type": "code",
   "execution_count": null,
   "metadata": {
    "collapsed": true
   },
   "outputs": [],
   "source": []
  }
 ],
 "metadata": {
  "kernelspec": {
   "display_name": "Python 3",
   "language": "python",
   "name": "python3"
  },
  "language_info": {
   "codemirror_mode": {
    "name": "ipython",
    "version": 3
   },
   "file_extension": ".py",
   "mimetype": "text/x-python",
   "name": "python",
   "nbconvert_exporter": "python",
   "pygments_lexer": "ipython3",
   "version": "3.6.0"
  }
 },
 "nbformat": 4,
 "nbformat_minor": 2
}
