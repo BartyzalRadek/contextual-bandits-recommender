{
 "cells": [
  {
   "cell_type": "code",
   "execution_count": 1,
   "metadata": {
    "collapsed": true
   },
   "outputs": [],
   "source": [
    "%matplotlib inline\n",
    "\n",
    "from movielens import MovieLens\n",
    "from hybridLinUCB import HybridLinUCB\n",
    "import numpy as np\n",
    "import matplotlib.pyplot as plt"
   ]
  },
  {
   "cell_type": "code",
   "execution_count": 2,
   "metadata": {
    "collapsed": false
   },
   "outputs": [
    {
     "name": "stdout",
     "output_type": "stream",
     "text": [
      "data\\movielens\\ml-100k.zip is already downloaded.\n",
      "Created a rating matrix of shape=(943, 1682) and dtype=float64 from u.data.\n",
      "Positive ratings (>=4) turned to 1, negative to -1, unknown to 0\n",
      "Created a genre matrix of shape=(1682, 19) and dtype=float64 from u.item.\n",
      "Created a titles matrix of shape=(1682,) and dtype=object from u.item.\n",
      "Statistics about self.R:\n",
      "Number of users:           943\n",
      "Number of items:           1682\n",
      "Total number of ratings:   1586126\n",
      "Known ratings:             100000\n",
      "Known positive ratings:    55375\n",
      "Known negative ratings:    44625\n",
      "Ratio of known ratings:    0.06304669364224531\n",
      "Ratio of positive ratings: 0.034912106604393346\n",
      "Ratio of negative ratings: 0.028134587037851974\n",
      "Avg number of positive ratings per user: 58.72216330858961 +- 54.67211827074995\n",
      "Avg number of negative ratings per user: 47.32237539766702 +- 58.41143787053165\n",
      "Shrinked rating matrix from (943, 1682) to (56, 100).\n",
      "\n",
      "After shrinking:\n",
      "Number of users:           56\n",
      "Number of items:           100\n",
      "Total number of ratings:   5600\n",
      "Known ratings:             903\n",
      "Known positive ratings:    606\n",
      "Known negative ratings:    297\n",
      "Ratio of known ratings:    0.16125\n",
      "Ratio of positive ratings: 0.10821428571428572\n",
      "Ratio of negative ratings: 0.05303571428571428\n",
      "Avg number of positive ratings per user: 10.821428571428571 +- 11.918034268130233\n",
      "Avg number of negative ratings per user: 5.303571428571429 +- 8.209140469312118\n",
      "\n",
      "Initializing matrix A of shape (100, 119, 119) which will require 11.3288MB of memory.\n",
      "\n",
      "LinUCB successfully initialized.\n"
     ]
    }
   ],
   "source": [
    "ucb = HybridLinUCB(alpha=0.1, dataset=None, max_items=100, allow_selecting_known_arms=True)"
   ]
  },
  {
   "cell_type": "code",
   "execution_count": 3,
   "metadata": {
    "collapsed": false
   },
   "outputs": [
    {
     "name": "stdout",
     "output_type": "stream",
     "text": [
      "R:\n",
      " [[ 1. -1.  1. ...,  1. -1.  1.]\n",
      " [ 1.  0.  0. ...,  0.  0.  1.]\n",
      " [ 0.  0.  0. ...,  0.  0.  0.]\n",
      " ..., \n",
      " [ 1.  0.  0. ...,  0.  0.  1.]\n",
      " [ 0.  0.  0. ...,  0.  0.  0.]\n",
      " [ 1.  0.  0. ...,  1.  0.  0.]]\n"
     ]
    }
   ],
   "source": [
    "print('R:\\n', ucb.dataset.R)"
   ]
  },
  {
   "cell_type": "code",
   "execution_count": 4,
   "metadata": {
    "collapsed": false
   },
   "outputs": [
    {
     "name": "stdout",
     "output_type": "stream",
     "text": [
      "Finished epoch 0/50 with avg reward 0.17857142857142858 in 1.750478744506836s\n",
      "Finished epoch 1/50 with avg reward 0.25 in 1.7018945217132568s\n",
      "Finished epoch 2/50 with avg reward 0.39285714285714285 in 1.695727825164795s\n",
      "Finished epoch 3/50 with avg reward 0.4107142857142857 in 1.6814639568328857s\n",
      "Finished epoch 4/50 with avg reward 0.5178571428571429 in 1.6740617752075195s\n",
      "Finished epoch 5/50 with avg reward 0.5535714285714286 in 1.6604721546173096s\n",
      "Finished epoch 6/50 with avg reward 0.5357142857142857 in 1.7458255290985107s\n",
      "Finished epoch 7/50 with avg reward 0.6964285714285714 in 1.8287920951843262s\n",
      "Finished epoch 8/50 with avg reward 0.6607142857142857 in 1.714789867401123s\n",
      "Finished epoch 9/50 with avg reward 0.6785714285714286 in 1.7897109985351562s\n",
      "Finished epoch 10/50 with avg reward 0.6428571428571429 in 1.7908804416656494s\n",
      "Finished epoch 11/50 with avg reward 0.7678571428571429 in 1.6843452453613281s\n",
      "Finished epoch 12/50 with avg reward 0.7321428571428571 in 1.693253517150879s\n",
      "Finished epoch 13/50 with avg reward 0.7678571428571429 in 1.742851734161377s\n",
      "Finished epoch 14/50 with avg reward 0.7678571428571429 in 1.8221018314361572s\n",
      "Finished epoch 15/50 with avg reward 0.8214285714285714 in 1.8044462203979492s\n",
      "Finished epoch 16/50 with avg reward 0.8035714285714286 in 1.75416898727417s\n",
      "Finished epoch 17/50 with avg reward 0.8035714285714286 in 1.6956160068511963s\n",
      "Finished epoch 18/50 with avg reward 0.8392857142857143 in 1.7304728031158447s\n",
      "Finished epoch 19/50 with avg reward 0.8392857142857143 in 1.6806674003601074s\n",
      "Finished epoch 20/50 with avg reward 0.8214285714285714 in 1.748338222503662s\n",
      "Finished epoch 21/50 with avg reward 0.8392857142857143 in 1.839202880859375s\n",
      "Finished epoch 22/50 with avg reward 0.8571428571428571 in 1.7647366523742676s\n",
      "Finished epoch 23/50 with avg reward 0.8392857142857143 in 1.800455093383789s\n",
      "Finished epoch 24/50 with avg reward 0.8571428571428571 in 1.7805113792419434s\n",
      "Finished epoch 25/50 with avg reward 0.8214285714285714 in 1.7618687152862549s\n",
      "Finished epoch 26/50 with avg reward 0.8214285714285714 in 1.761312484741211s\n",
      "Finished epoch 27/50 with avg reward 0.8035714285714286 in 1.7098705768585205s\n",
      "Finished epoch 28/50 with avg reward 0.8214285714285714 in 1.7373664379119873s\n",
      "Finished epoch 29/50 with avg reward 0.8392857142857143 in 1.718550443649292s\n",
      "Finished epoch 30/50 with avg reward 0.8928571428571429 in 1.7102465629577637s\n",
      "Finished epoch 31/50 with avg reward 0.8571428571428571 in 1.7103793621063232s\n",
      "Finished epoch 32/50 with avg reward 0.8392857142857143 in 1.6831531524658203s\n",
      "Finished epoch 33/50 with avg reward 0.9285714285714286 in 1.7274296283721924s\n",
      "Finished epoch 34/50 with avg reward 0.875 in 1.7818787097930908s\n",
      "Finished epoch 35/50 with avg reward 0.875 in 1.6770353317260742s\n",
      "Finished epoch 36/50 with avg reward 0.8928571428571429 in 1.704763650894165s\n",
      "Finished epoch 37/50 with avg reward 0.9285714285714286 in 1.698009729385376s\n",
      "Finished epoch 38/50 with avg reward 0.9107142857142857 in 1.7477633953094482s\n",
      "Finished epoch 39/50 with avg reward 0.9107142857142857 in 1.7294504642486572s\n",
      "Finished epoch 40/50 with avg reward 0.9285714285714286 in 1.712935209274292s\n",
      "Finished epoch 41/50 with avg reward 0.8928571428571429 in 1.7294156551361084s\n",
      "Finished epoch 42/50 with avg reward 0.9107142857142857 in 1.776698112487793s\n",
      "Finished epoch 43/50 with avg reward 0.9285714285714286 in 1.7602694034576416s\n",
      "Finished epoch 44/50 with avg reward 0.9464285714285714 in 1.7506699562072754s\n",
      "Finished epoch 45/50 with avg reward 0.9464285714285714 in 1.694836139678955s\n",
      "Finished epoch 46/50 with avg reward 0.9107142857142857 in 1.7082233428955078s\n",
      "Finished epoch 47/50 with avg reward 0.8928571428571429 in 1.7098522186279297s\n",
      "Finished epoch 48/50 with avg reward 0.9285714285714286 in 1.7239134311676025s\n",
      "Finished epoch 49/50 with avg reward 0.9464285714285714 in 1.7143592834472656s\n"
     ]
    }
   ],
   "source": [
    "avg_reward = ucb.run(num_epochs=50)"
   ]
  },
  {
   "cell_type": "code",
   "execution_count": 10,
   "metadata": {
    "collapsed": false
   },
   "outputs": [
    {
     "data": {
      "text/plain": [
       "<matplotlib.text.Text at 0x260375664e0>"
      ]
     },
     "execution_count": 10,
     "metadata": {},
     "output_type": "execute_result"
    },
    {
     "data": {
      "image/png": "[encoded data removed]",
      "text/plain": [
       "<matplotlib.figure.Figure at 0x2603683f2e8>"
      ]
     },
     "metadata": {},
     "output_type": "display_data"
    }
   ],
   "source": [
    "plt.plot(range(len(avg_reward)), avg_reward)\n",
    "plt.ylabel('average reward in epoch')\n",
    "plt.ylim(0.2, 1)\n",
    "plt.xlabel('epoch (1 epoch = recommended to all users)')\n",
    "plt.title('HybridLinUCB: Fixed rewards')"
   ]
  },
  {
   "cell_type": "code",
   "execution_count": 6,
   "metadata": {
    "collapsed": false
   },
   "outputs": [
    {
     "name": "stdout",
     "output_type": "stream",
     "text": [
      "data\\movielens\\ml-100k.zip is already downloaded.\n",
      "Created a rating matrix of shape=(943, 1682) and dtype=float64 from u.data.\n",
      "Positive ratings (>=4) turned to 1, negative to -1, unknown to 0\n",
      "Created a genre matrix of shape=(1682, 19) and dtype=float64 from u.item.\n",
      "Created a titles matrix of shape=(1682,) and dtype=object from u.item.\n",
      "Statistics about self.R:\n",
      "Number of users:           943\n",
      "Number of items:           1682\n",
      "Total number of ratings:   1586126\n",
      "Known ratings:             100000\n",
      "Known positive ratings:    55375\n",
      "Known negative ratings:    44625\n",
      "Ratio of known ratings:    0.06304669364224531\n",
      "Ratio of positive ratings: 0.034912106604393346\n",
      "Ratio of negative ratings: 0.028134587037851974\n",
      "Avg number of positive ratings per user: 58.72216330858961 +- 54.67211827074995\n",
      "Avg number of negative ratings per user: 47.32237539766702 +- 58.41143787053165\n",
      "Shrinked rating matrix from (943, 1682) to (56, 100).\n",
      "\n",
      "After shrinking:\n",
      "Number of users:           56\n",
      "Number of items:           100\n",
      "Total number of ratings:   5600\n",
      "Known ratings:             903\n",
      "Known positive ratings:    606\n",
      "Known negative ratings:    297\n",
      "Ratio of known ratings:    0.16125\n",
      "Ratio of positive ratings: 0.10821428571428572\n",
      "Ratio of negative ratings: 0.05303571428571428\n",
      "Avg number of positive ratings per user: 10.821428571428571 +- 11.918034268130233\n",
      "Avg number of negative ratings per user: 5.303571428571429 +- 8.209140469312118\n",
      "\n",
      "Initializing matrix A of shape (100, 119, 119) which will require 11.3288MB of memory.\n",
      "\n",
      "LinUCB successfully initialized.\n"
     ]
    }
   ],
   "source": [
    "ucb_stochastic = HybridLinUCB(alpha=0.1, dataset=None, max_items=100, \n",
    "                        allow_selecting_known_arms=True, fixed_rewards=False, prob_reward_p=0.9)"
   ]
  },
  {
   "cell_type": "code",
   "execution_count": 7,
   "metadata": {
    "collapsed": false
   },
   "outputs": [
    {
     "name": "stdout",
     "output_type": "stream",
     "text": [
      "R:\n",
      " [[ 1. -1.  1. ...,  1. -1.  1.]\n",
      " [ 1.  0.  0. ...,  0.  0.  1.]\n",
      " [ 0.  0.  0. ...,  0.  0.  0.]\n",
      " ..., \n",
      " [ 1.  0.  0. ...,  0.  0.  1.]\n",
      " [ 0.  0.  0. ...,  0.  0.  0.]\n",
      " [ 1.  0.  0. ...,  1.  0.  0.]]\n"
     ]
    }
   ],
   "source": [
    "print('R:\\n', ucb_stochastic.dataset.R)"
   ]
  },
  {
   "cell_type": "code",
   "execution_count": 8,
   "metadata": {
    "collapsed": false
   },
   "outputs": [
    {
     "name": "stdout",
     "output_type": "stream",
     "text": [
      "Finished epoch 0/50 with avg reward 0.30357142857142855 in 1.748520851135254s\n",
      "Finished epoch 1/50 with avg reward 0.5535714285714286 in 1.7934753894805908s\n",
      "Finished epoch 2/50 with avg reward 0.48214285714285715 in 1.7535381317138672s\n",
      "Finished epoch 3/50 with avg reward 0.5714285714285714 in 1.7890560626983643s\n",
      "Finished epoch 4/50 with avg reward 0.5714285714285714 in 1.8073928356170654s\n",
      "Finished epoch 5/50 with avg reward 0.5714285714285714 in 1.812791347503662s\n",
      "Finished epoch 6/50 with avg reward 0.5714285714285714 in 1.7791979312896729s\n",
      "Finished epoch 7/50 with avg reward 0.6428571428571429 in 1.7468101978302002s\n",
      "Finished epoch 8/50 with avg reward 0.6071428571428571 in 1.6790573596954346s\n",
      "Finished epoch 9/50 with avg reward 0.625 in 1.746351957321167s\n",
      "Finished epoch 10/50 with avg reward 0.6428571428571429 in 1.7344410419464111s\n",
      "Finished epoch 11/50 with avg reward 0.6071428571428571 in 1.843202829360962s\n",
      "Finished epoch 12/50 with avg reward 0.6785714285714286 in 1.8209164142608643s\n",
      "Finished epoch 13/50 with avg reward 0.6428571428571429 in 1.8320651054382324s\n",
      "Finished epoch 14/50 with avg reward 0.6607142857142857 in 1.8215398788452148s\n",
      "Finished epoch 15/50 with avg reward 0.5892857142857143 in 1.729494333267212s\n",
      "Finished epoch 16/50 with avg reward 0.6607142857142857 in 1.7352945804595947s\n",
      "Finished epoch 17/50 with avg reward 0.6785714285714286 in 1.7602496147155762s\n",
      "Finished epoch 18/50 with avg reward 0.6607142857142857 in 1.7683212757110596s\n",
      "Finished epoch 19/50 with avg reward 0.6964285714285714 in 1.697112798690796s\n",
      "Finished epoch 20/50 with avg reward 0.6785714285714286 in 1.6891827583312988s\n",
      "Finished epoch 21/50 with avg reward 0.6785714285714286 in 1.7493321895599365s\n",
      "Finished epoch 22/50 with avg reward 0.6785714285714286 in 1.7260868549346924s\n",
      "Finished epoch 23/50 with avg reward 0.7142857142857143 in 1.756211280822754s\n",
      "Finished epoch 24/50 with avg reward 0.7142857142857143 in 1.7074334621429443s\n",
      "Finished epoch 25/50 with avg reward 0.6785714285714286 in 1.8026928901672363s\n",
      "Finished epoch 26/50 with avg reward 0.6964285714285714 in 1.78187894821167s\n",
      "Finished epoch 27/50 with avg reward 0.6607142857142857 in 1.725114107131958s\n",
      "Finished epoch 28/50 with avg reward 0.7678571428571429 in 1.7646830081939697s\n",
      "Finished epoch 29/50 with avg reward 0.8035714285714286 in 1.7060692310333252s\n",
      "Finished epoch 30/50 with avg reward 0.8214285714285714 in 1.7053234577178955s\n",
      "Finished epoch 31/50 with avg reward 0.7678571428571429 in 1.7799861431121826s\n",
      "Finished epoch 32/50 with avg reward 0.7321428571428571 in 1.7605571746826172s\n",
      "Finished epoch 33/50 with avg reward 0.6964285714285714 in 1.7521774768829346s\n",
      "Finished epoch 34/50 with avg reward 0.8035714285714286 in 1.7175846099853516s\n",
      "Finished epoch 35/50 with avg reward 0.6785714285714286 in 1.814420223236084s\n",
      "Finished epoch 36/50 with avg reward 0.75 in 1.8053712844848633s\n",
      "Finished epoch 37/50 with avg reward 0.7142857142857143 in 1.7628092765808105s\n",
      "Finished epoch 38/50 with avg reward 0.8035714285714286 in 1.754706621170044s\n",
      "Finished epoch 39/50 with avg reward 0.7142857142857143 in 1.726529836654663s\n",
      "Finished epoch 40/50 with avg reward 0.7321428571428571 in 1.7202081680297852s\n",
      "Finished epoch 41/50 with avg reward 0.7857142857142857 in 1.8135907649993896s\n",
      "Finished epoch 42/50 with avg reward 0.7678571428571429 in 1.7712664604187012s\n",
      "Finished epoch 43/50 with avg reward 0.75 in 1.7777793407440186s\n",
      "Finished epoch 44/50 with avg reward 0.7142857142857143 in 1.7925455570220947s\n",
      "Finished epoch 45/50 with avg reward 0.7857142857142857 in 1.7052061557769775s\n",
      "Finished epoch 46/50 with avg reward 0.8214285714285714 in 1.711728811264038s\n",
      "Finished epoch 47/50 with avg reward 0.7857142857142857 in 1.703730583190918s\n",
      "Finished epoch 48/50 with avg reward 0.8035714285714286 in 1.7389450073242188s\n",
      "Finished epoch 49/50 with avg reward 0.7142857142857143 in 1.7418231964111328s\n"
     ]
    }
   ],
   "source": [
    "avg_reward_stochastic = ucb_stochastic.run(num_epochs=50)"
   ]
  },
  {
   "cell_type": "code",
   "execution_count": 9,
   "metadata": {
    "collapsed": false
   },
   "outputs": [
    {
     "data": {
      "text/plain": [
       "<matplotlib.text.Text at 0x26036845748>"
      ]
     },
     "execution_count": 9,
     "metadata": {},
     "output_type": "execute_result"
    },
    {
     "data": {
      "image/png": "[encoded data removed]",
      "text/plain": [
       "<matplotlib.figure.Figure at 0x26032753ef0>"
      ]
     },
     "metadata": {},
     "output_type": "display_data"
    }
   ],
   "source": [
    "plt.plot(range(len(avg_reward_stochastic)), avg_reward_stochastic)\n",
    "plt.ylabel('average reward in epoch')\n",
    "plt.ylim(0.2, 1)\n",
    "plt.xlabel('epoch (1 epoch = recommended to all users)')\n",
    "plt.title('HybridLinUCB: Stochastic rewards with p=0.9')"
   ]
  },
  {
   "cell_type": "code",
   "execution_count": null,
   "metadata": {
    "collapsed": true
   },
   "outputs": [],
   "source": []
  }
 ],
 "metadata": {
  "kernelspec": {
   "display_name": "Python 3",
   "language": "python",
   "name": "python3"
  },
  "language_info": {
   "codemirror_mode": {
    "name": "ipython",
    "version": 3
   },
   "file_extension": ".py",
   "mimetype": "text/x-python",
   "name": "python",
   "nbconvert_exporter": "python",
   "pygments_lexer": "ipython3",
   "version": "3.6.0"
  }
 },
 "nbformat": 4,
 "nbformat_minor": 2
}
