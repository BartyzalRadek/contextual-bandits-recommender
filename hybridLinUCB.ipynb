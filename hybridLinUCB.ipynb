{
 "cells": [
  {
   "cell_type": "code",
   "execution_count": 1,
   "metadata": {
    "collapsed": true
   },
   "outputs": [],
   "source": [
    "%matplotlib inline\n",
    "\n",
    "from movielens import MovieLens\n",
    "from hybridLinUCB import HybridLinUCB\n",
    "import numpy as np\n",
    "import matplotlib.pyplot as plt"
   ]
  },
  {
   "cell_type": "code",
   "execution_count": 11,
   "metadata": {
    "collapsed": true
   },
   "outputs": [],
   "source": [
    "from matplotlib.pylab import rcParams\n",
    "rcParams['figure.figsize'] = 7, 5"
   ]
  },
  {
   "cell_type": "code",
   "execution_count": 2,
   "metadata": {
    "collapsed": false
   },
   "outputs": [
    {
     "name": "stdout",
     "output_type": "stream",
     "text": [
      "data\\movielens\\ml-100k.zip is already downloaded.\n",
      "Created a rating matrix of shape=(943, 1682) and dtype=float64 from u.data.\n",
      "Positive ratings (>=4) turned to 1, negative to -1, unknown to 0\n",
      "Created a genre matrix of shape=(1682, 19) and dtype=float64 from u.item.\n",
      "Created a titles matrix of shape=(1682,) and dtype=object from u.item.\n",
      "Statistics about self.R:\n",
      "Number of users:           943\n",
      "Number of items:           1682\n",
      "Total number of ratings:   1586126\n",
      "Known ratings:             100000\n",
      "Known positive ratings:    55375\n",
      "Known negative ratings:    44625\n",
      "Ratio of known ratings:    0.06304669364224531\n",
      "Ratio of positive ratings: 0.034912106604393346\n",
      "Ratio of negative ratings: 0.028134587037851974\n",
      "Avg number of positive ratings per user: 58.72216330858961 +- 54.67211827074995\n",
      "Avg number of negative ratings per user: 47.32237539766702 +- 58.41143787053165\n",
      "Shrinked rating matrix from (943, 1682) to (56, 100).\n",
      "\n",
      "After shrinking:\n",
      "Number of users:           56\n",
      "Number of items:           100\n",
      "Total number of ratings:   5600\n",
      "Known ratings:             903\n",
      "Known positive ratings:    606\n",
      "Known negative ratings:    297\n",
      "Ratio of known ratings:    0.16125\n",
      "Ratio of positive ratings: 0.10821428571428572\n",
      "Ratio of negative ratings: 0.05303571428571428\n",
      "Avg number of positive ratings per user: 10.821428571428571 +- 11.918034268130233\n",
      "Avg number of negative ratings per user: 5.303571428571429 +- 8.209140469312118\n",
      "\n",
      "Initializing matrix A of shape (100, 119, 119) which will require 11.3288MB of memory.\n",
      "\n",
      "LinUCB successfully initialized.\n"
     ]
    }
   ],
   "source": [
    "ucb = HybridLinUCB(alpha=0.1, dataset=None, max_items=100, allow_selecting_known_arms=True)"
   ]
  },
  {
   "cell_type": "code",
   "execution_count": 3,
   "metadata": {
    "collapsed": false
   },
   "outputs": [
    {
     "name": "stdout",
     "output_type": "stream",
     "text": [
      "R:\n",
      " [[ 1. -1.  1. ...,  1. -1.  1.]\n",
      " [ 1.  0.  0. ...,  0.  0.  1.]\n",
      " [ 0.  0.  0. ...,  0.  0.  0.]\n",
      " ..., \n",
      " [ 1.  0.  0. ...,  0.  0.  1.]\n",
      " [ 0.  0.  0. ...,  0.  0.  0.]\n",
      " [ 1.  0.  0. ...,  1.  0.  0.]]\n"
     ]
    }
   ],
   "source": [
    "print('R:\\n', ucb.dataset.R)"
   ]
  },
  {
   "cell_type": "code",
   "execution_count": 4,
   "metadata": {
    "collapsed": false
   },
   "outputs": [
    {
     "name": "stdout",
     "output_type": "stream",
     "text": [
      "Finished epoch 0/50 with avg reward 0.17857142857142858 in 1.750478744506836s\n",
      "Finished epoch 1/50 with avg reward 0.25 in 1.7018945217132568s\n",
      "Finished epoch 2/50 with avg reward 0.39285714285714285 in 1.695727825164795s\n",
      "Finished epoch 3/50 with avg reward 0.4107142857142857 in 1.6814639568328857s\n",
      "Finished epoch 4/50 with avg reward 0.5178571428571429 in 1.6740617752075195s\n",
      "Finished epoch 5/50 with avg reward 0.5535714285714286 in 1.6604721546173096s\n",
      "Finished epoch 6/50 with avg reward 0.5357142857142857 in 1.7458255290985107s\n",
      "Finished epoch 7/50 with avg reward 0.6964285714285714 in 1.8287920951843262s\n",
      "Finished epoch 8/50 with avg reward 0.6607142857142857 in 1.714789867401123s\n",
      "Finished epoch 9/50 with avg reward 0.6785714285714286 in 1.7897109985351562s\n",
      "Finished epoch 10/50 with avg reward 0.6428571428571429 in 1.7908804416656494s\n",
      "Finished epoch 11/50 with avg reward 0.7678571428571429 in 1.6843452453613281s\n",
      "Finished epoch 12/50 with avg reward 0.7321428571428571 in 1.693253517150879s\n",
      "Finished epoch 13/50 with avg reward 0.7678571428571429 in 1.742851734161377s\n",
      "Finished epoch 14/50 with avg reward 0.7678571428571429 in 1.8221018314361572s\n",
      "Finished epoch 15/50 with avg reward 0.8214285714285714 in 1.8044462203979492s\n",
      "Finished epoch 16/50 with avg reward 0.8035714285714286 in 1.75416898727417s\n",
      "Finished epoch 17/50 with avg reward 0.8035714285714286 in 1.6956160068511963s\n",
      "Finished epoch 18/50 with avg reward 0.8392857142857143 in 1.7304728031158447s\n",
      "Finished epoch 19/50 with avg reward 0.8392857142857143 in 1.6806674003601074s\n",
      "Finished epoch 20/50 with avg reward 0.8214285714285714 in 1.748338222503662s\n",
      "Finished epoch 21/50 with avg reward 0.8392857142857143 in 1.839202880859375s\n",
      "Finished epoch 22/50 with avg reward 0.8571428571428571 in 1.7647366523742676s\n",
      "Finished epoch 23/50 with avg reward 0.8392857142857143 in 1.800455093383789s\n",
      "Finished epoch 24/50 with avg reward 0.8571428571428571 in 1.7805113792419434s\n",
      "Finished epoch 25/50 with avg reward 0.8214285714285714 in 1.7618687152862549s\n",
      "Finished epoch 26/50 with avg reward 0.8214285714285714 in 1.761312484741211s\n",
      "Finished epoch 27/50 with avg reward 0.8035714285714286 in 1.7098705768585205s\n",
      "Finished epoch 28/50 with avg reward 0.8214285714285714 in 1.7373664379119873s\n",
      "Finished epoch 29/50 with avg reward 0.8392857142857143 in 1.718550443649292s\n",
      "Finished epoch 30/50 with avg reward 0.8928571428571429 in 1.7102465629577637s\n",
      "Finished epoch 31/50 with avg reward 0.8571428571428571 in 1.7103793621063232s\n",
      "Finished epoch 32/50 with avg reward 0.8392857142857143 in 1.6831531524658203s\n",
      "Finished epoch 33/50 with avg reward 0.9285714285714286 in 1.7274296283721924s\n",
      "Finished epoch 34/50 with avg reward 0.875 in 1.7818787097930908s\n",
      "Finished epoch 35/50 with avg reward 0.875 in 1.6770353317260742s\n",
      "Finished epoch 36/50 with avg reward 0.8928571428571429 in 1.704763650894165s\n",
      "Finished epoch 37/50 with avg reward 0.9285714285714286 in 1.698009729385376s\n",
      "Finished epoch 38/50 with avg reward 0.9107142857142857 in 1.7477633953094482s\n",
      "Finished epoch 39/50 with avg reward 0.9107142857142857 in 1.7294504642486572s\n",
      "Finished epoch 40/50 with avg reward 0.9285714285714286 in 1.712935209274292s\n",
      "Finished epoch 41/50 with avg reward 0.8928571428571429 in 1.7294156551361084s\n",
      "Finished epoch 42/50 with avg reward 0.9107142857142857 in 1.776698112487793s\n",
      "Finished epoch 43/50 with avg reward 0.9285714285714286 in 1.7602694034576416s\n",
      "Finished epoch 44/50 with avg reward 0.9464285714285714 in 1.7506699562072754s\n",
      "Finished epoch 45/50 with avg reward 0.9464285714285714 in 1.694836139678955s\n",
      "Finished epoch 46/50 with avg reward 0.9107142857142857 in 1.7082233428955078s\n",
      "Finished epoch 47/50 with avg reward 0.8928571428571429 in 1.7098522186279297s\n",
      "Finished epoch 48/50 with avg reward 0.9285714285714286 in 1.7239134311676025s\n",
      "Finished epoch 49/50 with avg reward 0.9464285714285714 in 1.7143592834472656s\n"
     ]
    }
   ],
   "source": [
    "avg_reward = ucb.run(num_epochs=50)"
   ]
  },
  {
   "cell_type": "code",
   "execution_count": 12,
   "metadata": {
    "collapsed": false
   },
   "outputs": [
    {
     "data": {
      "text/plain": [
       "<matplotlib.text.Text at 0x260375eec50>"
      ]
     },
     "execution_count": 12,
     "metadata": {},
     "output_type": "execute_result"
    },
    {
     "data": {
      "image/png": "[encoded data removed]",
      "text/plain": [
       "<matplotlib.figure.Figure at 0x260375bc400>"
      ]
     },
     "metadata": {},
     "output_type": "display_data"
    }
   ],
   "source": [
    "plt.plot(range(len(avg_reward)), avg_reward)\n",
    "plt.ylabel('average reward in epoch')\n",
    "plt.ylim(0.2, 1)\n",
    "plt.xlabel('epoch (1 epoch = recommended to all users)')\n",
    "plt.title('HybridLinUCB: Fixed rewards')"
   ]
  },
  {
   "cell_type": "code",
   "execution_count": 6,
   "metadata": {
    "collapsed": false
   },
   "outputs": [
    {
     "name": "stdout",
     "output_type": "stream",
     "text": [
      "data\\movielens\\ml-100k.zip is already downloaded.\n",
      "Created a rating matrix of shape=(943, 1682) and dtype=float64 from u.data.\n",
      "Positive ratings (>=4) turned to 1, negative to -1, unknown to 0\n",
      "Created a genre matrix of shape=(1682, 19) and dtype=float64 from u.item.\n",
      "Created a titles matrix of shape=(1682,) and dtype=object from u.item.\n",
      "Statistics about self.R:\n",
      "Number of users:           943\n",
      "Number of items:           1682\n",
      "Total number of ratings:   1586126\n",
      "Known ratings:             100000\n",
      "Known positive ratings:    55375\n",
      "Known negative ratings:    44625\n",
      "Ratio of known ratings:    0.06304669364224531\n",
      "Ratio of positive ratings: 0.034912106604393346\n",
      "Ratio of negative ratings: 0.028134587037851974\n",
      "Avg number of positive ratings per user: 58.72216330858961 +- 54.67211827074995\n",
      "Avg number of negative ratings per user: 47.32237539766702 +- 58.41143787053165\n",
      "Shrinked rating matrix from (943, 1682) to (56, 100).\n",
      "\n",
      "After shrinking:\n",
      "Number of users:           56\n",
      "Number of items:           100\n",
      "Total number of ratings:   5600\n",
      "Known ratings:             903\n",
      "Known positive ratings:    606\n",
      "Known negative ratings:    297\n",
      "Ratio of known ratings:    0.16125\n",
      "Ratio of positive ratings: 0.10821428571428572\n",
      "Ratio of negative ratings: 0.05303571428571428\n",
      "Avg number of positive ratings per user: 10.821428571428571 +- 11.918034268130233\n",
      "Avg number of negative ratings per user: 5.303571428571429 +- 8.209140469312118\n",
      "\n",
      "Initializing matrix A of shape (100, 119, 119) which will require 11.3288MB of memory.\n",
      "\n",
      "LinUCB successfully initialized.\n"
     ]
    }
   ],
   "source": [
    "ucb_stochastic = HybridLinUCB(alpha=0.1, dataset=None, max_items=100, \n",
    "                        allow_selecting_known_arms=True, fixed_rewards=False, prob_reward_p=0.9)"
   ]
  },
  {
   "cell_type": "code",
   "execution_count": 7,
   "metadata": {
    "collapsed": false
   },
   "outputs": [
    {
     "name": "stdout",
     "output_type": "stream",
     "text": [
      "R:\n",
      " [[ 1. -1.  1. ...,  1. -1.  1.]\n",
      " [ 1.  0.  0. ...,  0.  0.  1.]\n",
      " [ 0.  0.  0. ...,  0.  0.  0.]\n",
      " ..., \n",
      " [ 1.  0.  0. ...,  0.  0.  1.]\n",
      " [ 0.  0.  0. ...,  0.  0.  0.]\n",
      " [ 1.  0.  0. ...,  1.  0.  0.]]\n"
     ]
    }
   ],
   "source": [
    "print('R:\\n', ucb_stochastic.dataset.R)"
   ]
  },
  {
   "cell_type": "code",
   "execution_count": 8,
   "metadata": {
    "collapsed": false
   },
   "outputs": [
    {
     "name": "stdout",
     "output_type": "stream",
     "text": [
      "Finished epoch 0/50 with avg reward 0.30357142857142855 in 1.748520851135254s\n",
      "Finished epoch 1/50 with avg reward 0.5535714285714286 in 1.7934753894805908s\n",
      "Finished epoch 2/50 with avg reward 0.48214285714285715 in 1.7535381317138672s\n",
      "Finished epoch 3/50 with avg reward 0.5714285714285714 in 1.7890560626983643s\n",
      "Finished epoch 4/50 with avg reward 0.5714285714285714 in 1.8073928356170654s\n",
      "Finished epoch 5/50 with avg reward 0.5714285714285714 in 1.812791347503662s\n",
      "Finished epoch 6/50 with avg reward 0.5714285714285714 in 1.7791979312896729s\n",
      "Finished epoch 7/50 with avg reward 0.6428571428571429 in 1.7468101978302002s\n",
      "Finished epoch 8/50 with avg reward 0.6071428571428571 in 1.6790573596954346s\n",
      "Finished epoch 9/50 with avg reward 0.625 in 1.746351957321167s\n",
      "Finished epoch 10/50 with avg reward 0.6428571428571429 in 1.7344410419464111s\n",
      "Finished epoch 11/50 with avg reward 0.6071428571428571 in 1.843202829360962s\n",
      "Finished epoch 12/50 with avg reward 0.6785714285714286 in 1.8209164142608643s\n",
      "Finished epoch 13/50 with avg reward 0.6428571428571429 in 1.8320651054382324s\n",
      "Finished epoch 14/50 with avg reward 0.6607142857142857 in 1.8215398788452148s\n",
      "Finished epoch 15/50 with avg reward 0.5892857142857143 in 1.729494333267212s\n",
      "Finished epoch 16/50 with avg reward 0.6607142857142857 in 1.7352945804595947s\n",
      "Finished epoch 17/50 with avg reward 0.6785714285714286 in 1.7602496147155762s\n",
      "Finished epoch 18/50 with avg reward 0.6607142857142857 in 1.7683212757110596s\n",
      "Finished epoch 19/50 with avg reward 0.6964285714285714 in 1.697112798690796s\n",
      "Finished epoch 20/50 with avg reward 0.6785714285714286 in 1.6891827583312988s\n",
      "Finished epoch 21/50 with avg reward 0.6785714285714286 in 1.7493321895599365s\n",
      "Finished epoch 22/50 with avg reward 0.6785714285714286 in 1.7260868549346924s\n",
      "Finished epoch 23/50 with avg reward 0.7142857142857143 in 1.756211280822754s\n",
      "Finished epoch 24/50 with avg reward 0.7142857142857143 in 1.7074334621429443s\n",
      "Finished epoch 25/50 with avg reward 0.6785714285714286 in 1.8026928901672363s\n",
      "Finished epoch 26/50 with avg reward 0.6964285714285714 in 1.78187894821167s\n",
      "Finished epoch 27/50 with avg reward 0.6607142857142857 in 1.725114107131958s\n",
      "Finished epoch 28/50 with avg reward 0.7678571428571429 in 1.7646830081939697s\n",
      "Finished epoch 29/50 with avg reward 0.8035714285714286 in 1.7060692310333252s\n",
      "Finished epoch 30/50 with avg reward 0.8214285714285714 in 1.7053234577178955s\n",
      "Finished epoch 31/50 with avg reward 0.7678571428571429 in 1.7799861431121826s\n",
      "Finished epoch 32/50 with avg reward 0.7321428571428571 in 1.7605571746826172s\n",
      "Finished epoch 33/50 with avg reward 0.6964285714285714 in 1.7521774768829346s\n",
      "Finished epoch 34/50 with avg reward 0.8035714285714286 in 1.7175846099853516s\n",
      "Finished epoch 35/50 with avg reward 0.6785714285714286 in 1.814420223236084s\n",
      "Finished epoch 36/50 with avg reward 0.75 in 1.8053712844848633s\n",
      "Finished epoch 37/50 with avg reward 0.7142857142857143 in 1.7628092765808105s\n",
      "Finished epoch 38/50 with avg reward 0.8035714285714286 in 1.754706621170044s\n",
      "Finished epoch 39/50 with avg reward 0.7142857142857143 in 1.726529836654663s\n",
      "Finished epoch 40/50 with avg reward 0.7321428571428571 in 1.7202081680297852s\n",
      "Finished epoch 41/50 with avg reward 0.7857142857142857 in 1.8135907649993896s\n",
      "Finished epoch 42/50 with avg reward 0.7678571428571429 in 1.7712664604187012s\n",
      "Finished epoch 43/50 with avg reward 0.75 in 1.7777793407440186s\n",
      "Finished epoch 44/50 with avg reward 0.7142857142857143 in 1.7925455570220947s\n",
      "Finished epoch 45/50 with avg reward 0.7857142857142857 in 1.7052061557769775s\n",
      "Finished epoch 46/50 with avg reward 0.8214285714285714 in 1.711728811264038s\n",
      "Finished epoch 47/50 with avg reward 0.7857142857142857 in 1.703730583190918s\n",
      "Finished epoch 48/50 with avg reward 0.8035714285714286 in 1.7389450073242188s\n",
      "Finished epoch 49/50 with avg reward 0.7142857142857143 in 1.7418231964111328s\n"
     ]
    }
   ],
   "source": [
    "avg_reward_stochastic = ucb_stochastic.run(num_epochs=50)"
   ]
  },
  {
   "cell_type": "code",
   "execution_count": 13,
   "metadata": {
    "collapsed": false
   },
   "outputs": [
    {
     "data": {
      "text/plain": [
       "<matplotlib.text.Text at 0x260376843c8>"
      ]
     },
     "execution_count": 13,
     "metadata": {},
     "output_type": "execute_result"
    },
    {
     "data": {
      "image/png": "[encoded data removed]",
      "text/plain": [
       "<matplotlib.figure.Figure at 0x26037636780>"
      ]
     },
     "metadata": {},
     "output_type": "display_data"
    }
   ],
   "source": [
    "plt.plot(range(len(avg_reward_stochastic)), avg_reward_stochastic)\n",
    "plt.ylabel('average reward in epoch')\n",
    "plt.ylim(0.2, 1)\n",
    "plt.xlabel('epoch (1 epoch = recommended to all users)')\n",
    "plt.title('HybridLinUCB: Stochastic rewards with p=0.9')"
   ]
  },
  {
   "cell_type": "code",
   "execution_count": 14,
   "metadata": {
    "collapsed": true
   },
   "outputs": [
    {
     "name": "stdout",
     "output_type": "stream",
     "text": [
      "data\\movielens\\ml-100k.zip is already downloaded.\n",
      "Created a rating matrix of shape=(943, 1682) and dtype=float64 from u.data.\n",
      "Positive ratings (>=4) turned to 1, negative to -1, unknown to 0\n",
      "Created a genre matrix of shape=(1682, 19) and dtype=float64 from u.item.\n",
      "Created a titles matrix of shape=(1682,) and dtype=object from u.item.\n",
      "Statistics about self.R:\n",
      "Number of users:           943\n",
      "Number of items:           1682\n",
      "Total number of ratings:   1586126\n",
      "Known ratings:             100000\n",
      "Known positive ratings:    55375\n",
      "Known negative ratings:    44625\n",
      "Ratio of known ratings:    0.06304669364224531\n",
      "Ratio of positive ratings: 0.034912106604393346\n",
      "Ratio of negative ratings: 0.028134587037851974\n",
      "Avg number of positive ratings per user: 58.72216330858961 +- 54.67211827074995\n",
      "Avg number of negative ratings per user: 47.32237539766702 +- 58.41143787053165\n",
      "Shrinked rating matrix from (943, 1682) to (56, 100).\n",
      "\n",
      "After shrinking:\n",
      "Number of users:           56\n",
      "Number of items:           100\n",
      "Total number of ratings:   5600\n",
      "Known ratings:             903\n",
      "Known positive ratings:    606\n",
      "Known negative ratings:    297\n",
      "Ratio of known ratings:    0.16125\n",
      "Ratio of positive ratings: 0.10821428571428572\n",
      "Ratio of negative ratings: 0.05303571428571428\n",
      "Avg number of positive ratings per user: 10.821428571428571 +- 11.918034268130233\n",
      "Avg number of negative ratings per user: 5.303571428571429 +- 8.209140469312118\n",
      "\n",
      "Initializing matrix A of shape (100, 119, 119) which will require 11.3288MB of memory.\n",
      "\n",
      "LinUCB successfully initialized.\n"
     ]
    }
   ],
   "source": [
    "ucb_stochastic_100 = HybridLinUCB(alpha=0.1, dataset=None, max_items=100, \n",
    "                        allow_selecting_known_arms=True, fixed_rewards=False, prob_reward_p=0.9)"
   ]
  },
  {
   "cell_type": "code",
   "execution_count": 15,
   "metadata": {
    "collapsed": false
   },
   "outputs": [
    {
     "name": "stdout",
     "output_type": "stream",
     "text": [
      "Finished epoch 0/100 with avg reward 0.30357142857142855 in 2.194092273712158s\n",
      "Finished epoch 1/100 with avg reward 0.5535714285714286 in 2.196359395980835s\n",
      "Finished epoch 2/100 with avg reward 0.48214285714285715 in 2.1993517875671387s\n",
      "Finished epoch 3/100 with avg reward 0.5714285714285714 in 2.1957151889801025s\n",
      "Finished epoch 4/100 with avg reward 0.5714285714285714 in 2.1858274936676025s\n",
      "Finished epoch 5/100 with avg reward 0.5714285714285714 in 2.1821651458740234s\n",
      "Finished epoch 6/100 with avg reward 0.5714285714285714 in 2.165241241455078s\n",
      "Finished epoch 7/100 with avg reward 0.6428571428571429 in 2.193681478500366s\n",
      "Finished epoch 8/100 with avg reward 0.6071428571428571 in 2.1821019649505615s\n",
      "Finished epoch 9/100 with avg reward 0.625 in 2.1016576290130615s\n",
      "Finished epoch 10/100 with avg reward 0.6428571428571429 in 2.140442132949829s\n",
      "Finished epoch 11/100 with avg reward 0.6071428571428571 in 2.1395950317382812s\n",
      "Finished epoch 12/100 with avg reward 0.6785714285714286 in 2.14200496673584s\n",
      "Finished epoch 13/100 with avg reward 0.6428571428571429 in 2.0825142860412598s\n",
      "Finished epoch 14/100 with avg reward 0.6607142857142857 in 2.114504098892212s\n",
      "Finished epoch 15/100 with avg reward 0.5892857142857143 in 2.1718075275421143s\n",
      "Finished epoch 16/100 with avg reward 0.6607142857142857 in 2.1072230339050293s\n",
      "Finished epoch 17/100 with avg reward 0.6785714285714286 in 2.1290102005004883s\n",
      "Finished epoch 18/100 with avg reward 0.6607142857142857 in 2.1607754230499268s\n",
      "Finished epoch 19/100 with avg reward 0.6964285714285714 in 2.167294502258301s\n",
      "Finished epoch 20/100 with avg reward 0.6785714285714286 in 2.0770530700683594s\n",
      "Finished epoch 21/100 with avg reward 0.6785714285714286 in 2.11110520362854s\n",
      "Finished epoch 22/100 with avg reward 0.6785714285714286 in 2.040354013442993s\n",
      "Finished epoch 23/100 with avg reward 0.7142857142857143 in 2.1633074283599854s\n",
      "Finished epoch 24/100 with avg reward 0.7142857142857143 in 2.1905245780944824s\n",
      "Finished epoch 25/100 with avg reward 0.6785714285714286 in 2.1556620597839355s\n",
      "Finished epoch 26/100 with avg reward 0.6964285714285714 in 2.0907208919525146s\n",
      "Finished epoch 27/100 with avg reward 0.6607142857142857 in 2.1917524337768555s\n",
      "Finished epoch 28/100 with avg reward 0.7678571428571429 in 2.1074018478393555s\n",
      "Finished epoch 29/100 with avg reward 0.8035714285714286 in 2.127044916152954s\n",
      "Finished epoch 30/100 with avg reward 0.8214285714285714 in 2.132843017578125s\n",
      "Finished epoch 31/100 with avg reward 0.7678571428571429 in 2.1289730072021484s\n",
      "Finished epoch 32/100 with avg reward 0.7321428571428571 in 2.0687766075134277s\n",
      "Finished epoch 33/100 with avg reward 0.6964285714285714 in 2.1707239151000977s\n",
      "Finished epoch 34/100 with avg reward 0.8035714285714286 in 2.1654961109161377s\n",
      "Finished epoch 35/100 with avg reward 0.6785714285714286 in 2.1334996223449707s\n",
      "Finished epoch 36/100 with avg reward 0.75 in 2.117527484893799s\n",
      "Finished epoch 37/100 with avg reward 0.7142857142857143 in 2.1586074829101562s\n",
      "Finished epoch 38/100 with avg reward 0.8035714285714286 in 2.1625494956970215s\n",
      "Finished epoch 39/100 with avg reward 0.7142857142857143 in 2.16343355178833s\n",
      "Finished epoch 40/100 with avg reward 0.7321428571428571 in 2.1276447772979736s\n",
      "Finished epoch 41/100 with avg reward 0.7857142857142857 in 2.125063180923462s\n",
      "Finished epoch 42/100 with avg reward 0.7678571428571429 in 2.1398653984069824s\n",
      "Finished epoch 43/100 with avg reward 0.75 in 2.143637180328369s\n",
      "Finished epoch 44/100 with avg reward 0.7142857142857143 in 2.0914266109466553s\n",
      "Finished epoch 45/100 with avg reward 0.7857142857142857 in 2.1763362884521484s\n",
      "Finished epoch 46/100 with avg reward 0.8214285714285714 in 2.190397262573242s\n",
      "Finished epoch 47/100 with avg reward 0.7857142857142857 in 2.207932949066162s\n",
      "Finished epoch 48/100 with avg reward 0.8035714285714286 in 2.180269956588745s\n",
      "Finished epoch 49/100 with avg reward 0.7142857142857143 in 2.1632659435272217s\n",
      "Finished epoch 50/100 with avg reward 0.7678571428571429 in 2.164156436920166s\n",
      "Finished epoch 51/100 with avg reward 0.7857142857142857 in 2.1201491355895996s\n",
      "Finished epoch 52/100 with avg reward 0.7678571428571429 in 2.186532974243164s\n",
      "Finished epoch 53/100 with avg reward 0.7857142857142857 in 2.1379973888397217s\n",
      "Finished epoch 54/100 with avg reward 0.7857142857142857 in 2.1604127883911133s\n",
      "Finished epoch 55/100 with avg reward 0.8214285714285714 in 2.077739953994751s\n",
      "Finished epoch 56/100 with avg reward 0.8928571428571429 in 2.1640055179595947s\n",
      "Finished epoch 57/100 with avg reward 0.875 in 2.1927361488342285s\n",
      "Finished epoch 58/100 with avg reward 0.8928571428571429 in 2.1336283683776855s\n",
      "Finished epoch 59/100 with avg reward 0.8392857142857143 in 2.1473701000213623s\n",
      "Finished epoch 60/100 with avg reward 0.8392857142857143 in 2.135578155517578s\n",
      "Finished epoch 61/100 with avg reward 0.8214285714285714 in 2.1821441650390625s\n",
      "Finished epoch 62/100 with avg reward 0.8928571428571429 in 2.186783790588379s\n",
      "Finished epoch 63/100 with avg reward 0.7142857142857143 in 2.1511127948760986s\n",
      "Finished epoch 64/100 with avg reward 0.8035714285714286 in 2.178368091583252s\n",
      "Finished epoch 65/100 with avg reward 0.8571428571428571 in 2.108289957046509s\n",
      "Finished epoch 66/100 with avg reward 0.6785714285714286 in 2.102919340133667s\n",
      "Finished epoch 67/100 with avg reward 0.7678571428571429 in 2.16042423248291s\n",
      "Finished epoch 68/100 with avg reward 0.8571428571428571 in 2.190430164337158s\n",
      "Finished epoch 69/100 with avg reward 0.8392857142857143 in 2.177781581878662s\n",
      "Finished epoch 70/100 with avg reward 0.8214285714285714 in 2.1046650409698486s\n",
      "Finished epoch 71/100 with avg reward 0.8035714285714286 in 2.1104354858398438s\n",
      "Finished epoch 72/100 with avg reward 0.7142857142857143 in 2.139005184173584s\n",
      "Finished epoch 73/100 with avg reward 0.8214285714285714 in 2.2268524169921875s\n",
      "Finished epoch 74/100 with avg reward 0.7857142857142857 in 2.0674829483032227s\n",
      "Finished epoch 75/100 with avg reward 0.8214285714285714 in 1.8486320972442627s\n",
      "Finished epoch 76/100 with avg reward 0.875 in 1.6807374954223633s\n",
      "Finished epoch 77/100 with avg reward 0.8214285714285714 in 1.7389135360717773s\n",
      "Finished epoch 78/100 with avg reward 0.8571428571428571 in 1.7677927017211914s\n",
      "Finished epoch 79/100 with avg reward 0.8928571428571429 in 1.7157905101776123s\n",
      "Finished epoch 80/100 with avg reward 0.8928571428571429 in 1.706132411956787s\n",
      "Finished epoch 81/100 with avg reward 0.8928571428571429 in 1.7236168384552002s\n",
      "Finished epoch 82/100 with avg reward 0.7857142857142857 in 1.7927894592285156s\n",
      "Finished epoch 83/100 with avg reward 0.8392857142857143 in 1.7154264450073242s\n",
      "Finished epoch 84/100 with avg reward 0.7857142857142857 in 1.724243402481079s\n",
      "Finished epoch 85/100 with avg reward 0.7678571428571429 in 1.6818046569824219s\n",
      "Finished epoch 86/100 with avg reward 0.75 in 1.71575927734375s\n",
      "Finished epoch 87/100 with avg reward 0.8035714285714286 in 1.7192895412445068s\n",
      "Finished epoch 88/100 with avg reward 0.7857142857142857 in 1.700697898864746s\n",
      "Finished epoch 89/100 with avg reward 0.8392857142857143 in 1.7331271171569824s\n",
      "Finished epoch 90/100 with avg reward 0.8571428571428571 in 1.6915478706359863s\n",
      "Finished epoch 91/100 with avg reward 0.8214285714285714 in 1.7116563320159912s\n",
      "Finished epoch 92/100 with avg reward 0.7857142857142857 in 1.705378770828247s\n",
      "Finished epoch 93/100 with avg reward 0.75 in 1.7074229717254639s\n",
      "Finished epoch 94/100 with avg reward 0.75 in 1.6866984367370605s\n",
      "Finished epoch 95/100 with avg reward 0.8214285714285714 in 1.7509431838989258s\n",
      "Finished epoch 96/100 with avg reward 0.8571428571428571 in 1.7261426448822021s\n",
      "Finished epoch 97/100 with avg reward 0.8035714285714286 in 1.763920545578003s\n",
      "Finished epoch 98/100 with avg reward 0.8392857142857143 in 1.7495906352996826s\n",
      "Finished epoch 99/100 with avg reward 0.8928571428571429 in 1.779637336730957s\n"
     ]
    }
   ],
   "source": [
    "avg_reward_stochastic_100 = ucb_stochastic_100.run(num_epochs=100)"
   ]
  },
  {
   "cell_type": "code",
   "execution_count": 18,
   "metadata": {
    "collapsed": false
   },
   "outputs": [
    {
     "data": {
      "text/plain": [
       "<matplotlib.text.Text at 0x2603a067ef0>"
      ]
     },
     "execution_count": 18,
     "metadata": {},
     "output_type": "execute_result"
    },
    {
     "data": {
      "image/png": "[encoded data removed]",
      "text/plain": [
       "<matplotlib.figure.Figure at 0x2603a01eda0>"
      ]
     },
     "metadata": {},
     "output_type": "display_data"
    }
   ],
   "source": [
    "rcParams['figure.figsize'] = 14, 5\n",
    "plt.plot(range(len(avg_reward_stochastic_100)), avg_reward_stochastic_100)\n",
    "plt.ylabel('average reward in epoch')\n",
    "plt.ylim(0.2, 1)\n",
    "plt.xlabel('epoch (1 epoch = recommended to all users)')\n",
    "plt.title('HybridLinUCB: Stochastic rewards with p=0.9')"
   ]
  },
  {
   "cell_type": "code",
   "execution_count": null,
   "metadata": {
    "collapsed": true
   },
   "outputs": [],
   "source": []
  }
 ],
 "metadata": {
  "kernelspec": {
   "display_name": "Python 3",
   "language": "python",
   "name": "python3"
  },
  "language_info": {
   "codemirror_mode": {
    "name": "ipython",
    "version": 3
   },
   "file_extension": ".py",
   "mimetype": "text/x-python",
   "name": "python",
   "nbconvert_exporter": "python",
   "pygments_lexer": "ipython3",
   "version": "3.6.0"
  }
 },
 "nbformat": 4,
 "nbformat_minor": 2
}
