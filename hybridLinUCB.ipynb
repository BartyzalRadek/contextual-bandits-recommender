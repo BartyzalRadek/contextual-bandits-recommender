{
 "cells": [
  {
   "cell_type": "code",
   "execution_count": 1,
   "metadata": {
    "collapsed": true
   },
   "outputs": [],
   "source": [
    "%matplotlib inline\n",
    "\n",
    "from movielens import MovieLens\n",
    "from hybridLinUCB import HybridLinUCB\n",
    "import numpy as np\n",
    "import matplotlib.pyplot as plt"
   ]
  },
  {
   "cell_type": "code",
   "execution_count": 2,
   "metadata": {
    "collapsed": false
   },
   "outputs": [
    {
     "name": "stdout",
     "output_type": "stream",
     "text": [
      "data\\movielens\\ml-100k.zip is already downloaded.\n",
      "Created a rating matrix of shape=(943, 1682) and dtype=float64 from u.data.\n",
      "Positive ratings (>=4) turned to 1, negative to -1, unknown to 0\n",
      "Created a genre matrix of shape=(1682, 19) and dtype=float64 from u.item.\n",
      "Created a titles matrix of shape=(1682,) and dtype=object from u.item.\n",
      "Statistics about self.R:\n",
      "Number of users:           943\n",
      "Number of items:           1682\n",
      "Total number of ratings:   1586126\n",
      "Known ratings:             100000\n",
      "Known positive ratings:    55375\n",
      "Known negative ratings:    44625\n",
      "Ratio of known ratings:    0.06304669364224531\n",
      "Ratio of positive ratings: 0.034912106604393346\n",
      "Ratio of negative ratings: 0.028134587037851974\n",
      "Avg number of positive ratings per user: 58.72216330858961 +- 54.67211827074995\n",
      "Avg number of negative ratings per user: 47.32237539766702 +- 58.41143787053165\n",
      "Shrinked rating matrix from (943, 1682) to (5, 10).\n",
      "\n",
      "After shrinking:\n",
      "Number of users:           5\n",
      "Number of items:           10\n",
      "Total number of ratings:   50\n",
      "Known ratings:             14\n",
      "Known positive ratings:    7\n",
      "Known negative ratings:    7\n",
      "Ratio of known ratings:    0.28\n",
      "Ratio of positive ratings: 0.14\n",
      "Ratio of negative ratings: 0.14\n",
      "Avg number of positive ratings per user: 1.4 +- 1.8547236990991407\n",
      "Avg number of negative ratings per user: 1.4 +- 1.8547236990991407\n",
      "\n",
      "Initializing matrix A of shape (10, 29, 29) which will require 0.06728MB of memory.\n",
      "\n",
      "LinUCB successfully initialized.\n"
     ]
    }
   ],
   "source": [
    "ucb = HybridLinUCB(alpha=0.1, dataset=None, max_items=10, allow_selecting_known_arms=True)"
   ]
  },
  {
   "cell_type": "code",
   "execution_count": 3,
   "metadata": {
    "collapsed": false
   },
   "outputs": [
    {
     "name": "stdout",
     "output_type": "stream",
     "text": [
      "R:\n",
      " [[ 1. -1. -1. -1.  1. -1.  1. -1.  1. -1.]\n",
      " [ 1. -1.  0.  0.  0.  1.  0.  0.  0.  1.]\n",
      " [ 0.  0.  1.  0. -1.  0.  0.  0.  0.  0.]\n",
      " [ 1.  1.  0.  1.  0.  0.  0.  0.  0.  0.]\n",
      " [ 1. -1.  0.  0.  0.  0.  1.  0.  1. -1.]]\n"
     ]
    }
   ],
   "source": [
    "print('R:\\n', ucb.dataset.R)"
   ]
  },
  {
   "cell_type": "code",
   "execution_count": 4,
   "metadata": {
    "collapsed": false
   },
   "outputs": [
    {
     "name": "stdout",
     "output_type": "stream",
     "text": [
      "User 3 choosing item 3 with p_t=0.30000000000000004 reward 1\n",
      "User 0 choosing item 3 with p_t=1.4020081854790474 reward 0\n",
      "User 2 choosing item 3 with p_t=0.7965362991818901 reward 0\n",
      "User 1 choosing item 3 with p_t=0.5204043147991165 reward 0\n",
      "User 4 choosing item 7 with p_t=0.4659237548203153 reward 0\n",
      "Finished epoch 0/15 with avg reward 0.2 in 0.013061761856079102s\n",
      "User 3 choosing item 3 with p_t=0.908755070158723 reward 1\n",
      "User 4 choosing item 1 with p_t=0.5109808731146764 reward 0\n",
      "User 2 choosing item 9 with p_t=0.3235423523688132 reward 0\n",
      "User 1 choosing item 6 with p_t=0.32650074103546556 reward 0\n",
      "User 0 choosing item 8 with p_t=0.36246313923803136 reward 1\n",
      "Finished epoch 1/15 with avg reward 0.4 in 0.0080108642578125s\n",
      "User 2 choosing item 4 with p_t=2.18217769842315 reward 0\n",
      "User 3 choosing item 8 with p_t=2.251695413807917 reward 1\n",
      "User 0 choosing item 5 with p_t=1.9785645493357868 reward 0\n",
      "User 1 choosing item 8 with p_t=1.0062687406432818 reward 0\n",
      "User 4 choosing item 8 with p_t=1.034107248957866 reward 1\n",
      "Finished epoch 2/15 with avg reward 0.4 in 0.007001638412475586s\n",
      "User 2 choosing item 8 with p_t=0.8078944953539801 reward 0\n",
      "User 4 choosing item 8 with p_t=1.0096698055078217 reward 1\n",
      "User 3 choosing item 8 with p_t=1.14135226920578 reward 1\n",
      "User 0 choosing item 8 with p_t=1.0908816992102577 reward 1\n",
      "User 1 choosing item 5 with p_t=0.8835826837766793 reward 1\n",
      "Finished epoch 3/15 with avg reward 0.8 in 0.006219148635864258s\n",
      "User 1 choosing item 5 with p_t=1.0570565883410419 reward 1\n",
      "User 3 choosing item 8 with p_t=1.0914750222150424 reward 1\n",
      "User 2 choosing item 5 with p_t=0.9966108191091504 reward 0\n",
      "User 4 choosing item 8 with p_t=1.017727643714859 reward 1\n",
      "User 0 choosing item 8 with p_t=1.071233998650536 reward 1\n",
      "Finished epoch 4/15 with avg reward 0.8 in 0.0s\n",
      "User 4 choosing item 8 with p_t=1.0205192736819868 reward 1\n",
      "User 2 choosing item 1 with p_t=0.30368543146195653 reward 0\n",
      "User 0 choosing item 8 with p_t=1.059757597588682 reward 1\n",
      "User 3 choosing item 8 with p_t=1.070634627809411 reward 1\n",
      "User 1 choosing item 5 with p_t=1.0354867687780605 reward 1\n",
      "Finished epoch 5/15 with avg reward 0.8 in 0.0s\n",
      "User 1 choosing item 5 with p_t=1.0342630531313528 reward 1\n",
      "User 3 choosing item 8 with p_t=1.05956733083551 reward 1\n",
      "User 2 choosing item 8 with p_t=0.2650685609926865 reward 0\n",
      "User 4 choosing item 8 with p_t=1.0204418196979357 reward 1\n",
      "User 0 choosing item 8 with p_t=1.0516656791931687 reward 1\n",
      "Finished epoch 6/15 with avg reward 0.8 in 0.01562786102294922s\n",
      "User 1 choosing item 5 with p_t=1.032156965319065 reward 1\n",
      "User 0 choosing item 8 with p_t=1.0463906170260322 reward 1\n",
      "User 2 choosing item 7 with p_t=0.2651958576411523 reward 0\n",
      "User 4 choosing item 8 with p_t=1.0204440134667074 reward 1\n",
      "User 3 choosing item 8 with p_t=1.056433808968652 reward 1\n",
      "Finished epoch 7/15 with avg reward 0.8 in 0.0s\n",
      "User 4 choosing item 8 with p_t=1.0202682944752113 reward 1\n",
      "User 2 choosing item 8 with p_t=0.24557115878578584 reward 0\n",
      "User 1 choosing item 5 with p_t=1.0305454655638773 reward 1\n",
      "User 3 choosing item 8 with p_t=1.0538874269912257 reward 1\n",
      "User 0 choosing item 8 with p_t=1.0426395422225867 reward 1\n",
      "Finished epoch 8/15 with avg reward 0.8 in 0.01566147804260254s\n",
      "User 0 choosing item 8 with p_t=1.0394717883325961 reward 1\n",
      "User 2 choosing item 4 with p_t=0.21003284130600403 reward 0\n",
      "User 3 choosing item 8 with p_t=1.0493418237421728 reward 1\n",
      "User 4 choosing item 8 with p_t=1.0179239264168463 reward 1\n",
      "User 1 choosing item 5 with p_t=1.0294191230066703 reward 1\n",
      "Finished epoch 9/15 with avg reward 0.8 in 0.0s\n",
      "User 4 choosing item 8 with p_t=1.0178177358760834 reward 1\n",
      "User 0 choosing item 8 with p_t=1.0372112023418802 reward 1\n",
      "User 3 choosing item 8 with p_t=1.0460601407967154 reward 1\n",
      "User 2 choosing item 9 with p_t=0.20153572240664047 reward 0\n",
      "User 1 choosing item 5 with p_t=1.0281984605052092 reward 1\n",
      "Finished epoch 10/15 with avg reward 0.8 in 0.017802715301513672s\n",
      "User 2 choosing item 6 with p_t=0.19869083471146426 reward 0\n",
      "User 1 choosing item 5 with p_t=1.0269871930238268 reward 1\n",
      "User 3 choosing item 8 with p_t=1.043003551303036 reward 1\n",
      "User 0 choosing item 8 with p_t=1.0351588428672895 reward 1\n",
      "User 4 choosing item 8 with p_t=1.0174309263311543 reward 1\n",
      "Finished epoch 11/15 with avg reward 0.8 in 0.008020401000976562s\n",
      "User 3 choosing item 8 with p_t=1.0405495488648264 reward 1\n",
      "User 4 choosing item 8 with p_t=1.0172048692476403 reward 1\n",
      "User 1 choosing item 5 with p_t=1.026101274188266 reward 1\n",
      "User 2 choosing item 5 with p_t=0.2704493740932409 reward 0\n",
      "User 0 choosing item 8 with p_t=1.0331828221842054 reward 1\n",
      "Finished epoch 12/15 with avg reward 0.8 in 0.007026195526123047s\n",
      "User 3 choosing item 8 with p_t=1.0377868054873431 reward 1\n",
      "User 1 choosing item 5 with p_t=1.0246070399704905 reward 1\n",
      "User 4 choosing item 8 with p_t=1.017156087018817 reward 1\n",
      "User 2 choosing item 1 with p_t=0.1927248223318863 reward 0\n",
      "User 0 choosing item 8 with p_t=1.0317083262042401 reward 1\n",
      "Finished epoch 13/15 with avg reward 0.8 in 0.009015321731567383s\n",
      "User 3 choosing item 8 with p_t=1.036081627606684 reward 1\n",
      "User 4 choosing item 8 with p_t=1.0168647975575775 reward 1\n",
      "User 2 choosing item 7 with p_t=0.16647569564172635 reward 0\n",
      "User 1 choosing item 5 with p_t=1.0239042996541718 reward 1\n",
      "User 0 choosing item 8 with p_t=1.030410065012549 reward 1\n",
      "Finished epoch 14/15 with avg reward 0.8 in 0.006016731262207031s\n"
     ]
    }
   ],
   "source": [
    "avg_reward = ucb.run(num_epochs=15)"
   ]
  },
  {
   "cell_type": "code",
   "execution_count": 5,
   "metadata": {
    "collapsed": false
   },
   "outputs": [
    {
     "data": {
      "text/plain": [
       "<matplotlib.text.Text at 0x1ca1cd1f7f0>"
      ]
     },
     "execution_count": 5,
     "metadata": {},
     "output_type": "execute_result"
    },
    {
     "data": {
      "image/png": "[encoded data removed]",
      "text/plain": [
       "<matplotlib.figure.Figure at 0x1ca1b085b38>"
      ]
     },
     "metadata": {},
     "output_type": "display_data"
    }
   ],
   "source": [
    "plt.plot(range(len(avg_reward)), avg_reward)\n",
    "plt.ylabel('avg reward')\n",
    "plt.xlabel('epoch (1 epoch = recommended to all users)')\n",
    "plt.title('Average reward per epoch')"
   ]
  },
  {
   "cell_type": "code",
   "execution_count": null,
   "metadata": {
    "collapsed": true
   },
   "outputs": [],
   "source": []
  }
 ],
 "metadata": {
  "kernelspec": {
   "display_name": "Python 3",
   "language": "python",
   "name": "python3"
  },
  "language_info": {
   "codemirror_mode": {
    "name": "ipython",
    "version": 3
   },
   "file_extension": ".py",
   "mimetype": "text/x-python",
   "name": "python",
   "nbconvert_exporter": "python",
   "pygments_lexer": "ipython3",
   "version": "3.6.0"
  }
 },
 "nbformat": 4,
 "nbformat_minor": 2
}
