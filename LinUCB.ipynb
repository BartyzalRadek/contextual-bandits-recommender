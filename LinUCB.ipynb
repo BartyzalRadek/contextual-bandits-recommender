{
 "cells": [
  {
   "cell_type": "code",
   "execution_count": 1,
   "metadata": {
    "collapsed": true
   },
   "outputs": [],
   "source": [
    "%matplotlib inline\n",
    "\n",
    "from movielens import MovieLens\n",
    "from linUCB import LinUCB\n",
    "import numpy as np\n",
    "import matplotlib.pyplot as plt"
   ]
  },
  {
   "cell_type": "code",
   "execution_count": 2,
   "metadata": {
    "collapsed": false
   },
   "outputs": [
    {
     "name": "stdout",
     "output_type": "stream",
     "text": [
      "data\\movielens\\ml-100k.zip is already downloaded.\n",
      "Created a rating matrix of shape=(943, 1682) and dtype=float64 from u.data.\n",
      "Positive ratings (>=4) turned to 1, negative to -1, unknown to 0\n",
      "Created a genre matrix of shape=(1682, 19) and dtype=float64 from u.item.\n",
      "Created a titles matrix of shape=(1682,) and dtype=object from u.item.\n",
      "Statistics about self.R:\n",
      "Number of users:           943\n",
      "Number of items:           1682\n",
      "Total number of ratings:   1586126\n",
      "Known ratings:             100000\n",
      "Known positive ratings:    55375\n",
      "Known negative ratings:    44625\n",
      "Ratio of known ratings:    0.06304669364224531\n",
      "Ratio of positive ratings: 0.034912106604393346\n",
      "Ratio of negative ratings: 0.028134587037851974\n",
      "Avg number of positive ratings per user: 58.72216330858961 +- 54.67211827074995\n",
      "Avg number of negative ratings per user: 47.32237539766702 +- 58.41143787053165\n",
      "Shrinked rating matrix from (943, 1682) to (5, 10).\n",
      "\n",
      "After shrinking:\n",
      "Number of users:           5\n",
      "Number of items:           10\n",
      "Total number of ratings:   50\n",
      "Known ratings:             14\n",
      "Known positive ratings:    7\n",
      "Known negative ratings:    7\n",
      "Ratio of known ratings:    0.28\n",
      "Ratio of positive ratings: 0.14\n",
      "Ratio of negative ratings: 0.14\n",
      "Avg number of positive ratings per user: 1.4 +- 1.8547236990991407\n",
      "Avg number of negative ratings per user: 1.4 +- 1.8547236990991407\n",
      "\n",
      "Initializing matrix A of shape (10, 29, 29) which will require 0.06728MB of memory.\n",
      "\n",
      "LinUCB successfully initialized.\n"
     ]
    }
   ],
   "source": [
    "ucb = LinUCB(alpha=0.1, dataset=None, max_items=10, allow_selecting_known_arms=True)"
   ]
  },
  {
   "cell_type": "code",
   "execution_count": 3,
   "metadata": {
    "collapsed": false
   },
   "outputs": [
    {
     "name": "stdout",
     "output_type": "stream",
     "text": [
      "R:\n",
      " [[ 1. -1. -1. -1.  1. -1.  1. -1.  1. -1.]\n",
      " [ 1. -1.  0.  0.  0.  1.  0.  0.  0.  1.]\n",
      " [ 0.  0.  1.  0. -1.  0.  0.  0.  0.  0.]\n",
      " [ 1.  1.  0.  1.  0.  0.  0.  0.  0.  0.]\n",
      " [ 1. -1.  0.  0.  0.  0.  1.  0.  1. -1.]]\n"
     ]
    }
   ],
   "source": [
    "print('R:\\n', ucb.dataset.R)"
   ]
  },
  {
   "cell_type": "code",
   "execution_count": 4,
   "metadata": {
    "collapsed": false
   },
   "outputs": [
    {
     "name": "stdout",
     "output_type": "stream",
     "text": [
      "User 3 choosing item 3 with p_t=0.2449489742783178 reward 1\n",
      "User 0 choosing item 3 with p_t=0.6382560765500878 reward 0\n",
      "User 2 choosing item 3 with p_t=0.6182173050363778 reward 0\n",
      "User 1 choosing item 3 with p_t=0.4485425355132038 reward 0\n",
      "User 4 choosing item 4 with p_t=0.28284271247461906 reward 0\n",
      "Finished epoch 0/10 with avg reward 0.2 in 0.012033224105834961s\n",
      "User 4 choosing item 7 with p_t=0.30000000000000004 reward 0\n",
      "User 0 choosing item 1 with p_t=0.36055512754639896 reward 0\n",
      "User 2 choosing item 0 with p_t=0.2449489742783178 reward 0\n",
      "User 3 choosing item 3 with p_t=0.8930807012477813 reward 1\n",
      "User 1 choosing item 9 with p_t=0.2645751311064591 reward 1\n",
      "Finished epoch 1/10 with avg reward 0.4 in 0.00400996208190918s\n",
      "User 0 choosing item 9 with p_t=0.7047726489568227 reward 0\n",
      "User 2 choosing item 9 with p_t=0.5071929165513239 reward 0\n",
      "User 1 choosing item 9 with p_t=0.9438292088817652 reward 1\n",
      "User 3 choosing item 3 with p_t=0.9577579493436819 reward 1\n",
      "User 4 choosing item 9 with p_t=0.34378119792220074 reward 0\n",
      "Finished epoch 2/10 with avg reward 0.4 in 0.005013704299926758s\n",
      "User 0 choosing item 0 with p_t=0.35254179083580195 reward 1\n",
      "User 2 choosing item 1 with p_t=0.27774602993176545 reward 0\n",
      "User 4 choosing item 0 with p_t=0.7158885343508108 reward 1\n",
      "User 1 choosing item 9 with p_t=0.986053221611138 reward 1\n",
      "User 3 choosing item 3 with p_t=0.9801178056243993 reward 1\n",
      "Finished epoch 3/10 with avg reward 0.8 in 0.006016254425048828s\n",
      "User 4 choosing item 0 with p_t=0.9960203502513191 reward 1\n",
      "User 1 choosing item 9 with p_t=1.000098740021033 reward 1\n",
      "User 2 choosing item 0 with p_t=0.3793300054664675 reward 0\n",
      "User 3 choosing item 3 with p_t=0.9909028431482081 reward 1\n",
      "User 0 choosing item 0 with p_t=1.0719815978270182 reward 1\n",
      "Finished epoch 4/10 with avg reward 0.8 in 0.005035400390625s\n",
      "User 3 choosing item 3 with p_t=0.997020271819132 reward 1\n",
      "User 1 choosing item 9 with p_t=1.0063299066876052 reward 1\n",
      "User 0 choosing item 0 with p_t=1.0568220278994653 reward 1\n",
      "User 2 choosing item 6 with p_t=0.28284271247461906 reward 0\n",
      "User 4 choosing item 0 with p_t=1.011399738178447 reward 1\n",
      "Finished epoch 5/10 with avg reward 0.8 in 0.005006551742553711s\n",
      "User 3 choosing item 3 with p_t=1.0008412636808393 reward 1\n",
      "User 2 choosing item 4 with p_t=0.30000000000000004 reward 0\n",
      "User 4 choosing item 0 with p_t=1.0171779625063215 reward 1\n",
      "User 1 choosing item 9 with p_t=1.0095784546328943 reward 1\n",
      "User 0 choosing item 0 with p_t=1.0496983848688735 reward 1\n",
      "Finished epoch 6/10 with avg reward 0.8 in 0.004996776580810547s\n",
      "User 0 choosing item 0 with p_t=1.044045704278592 reward 1\n",
      "User 3 choosing item 3 with p_t=1.003384475081921 reward 1\n",
      "User 2 choosing item 7 with p_t=0.2898275349237888 reward 0\n",
      "User 4 choosing item 0 with p_t=1.0192847958744446 reward 1\n",
      "User 1 choosing item 9 with p_t=1.0114278154832999 reward 1\n",
      "Finished epoch 7/10 with avg reward 0.8 in 0.0040283203125s\n",
      "User 3 choosing item 3 with p_t=1.005154309670034 reward 1\n",
      "User 4 choosing item 0 with p_t=1.019980788078183 reward 1\n",
      "User 0 choosing item 0 with p_t=1.0402515802196197 reward 1\n",
      "User 2 choosing item 2 with p_t=0.30000000000000004 reward 1\n",
      "User 1 choosing item 9 with p_t=1.0125331888988396 reward 1\n",
      "Finished epoch 8/10 with avg reward 1.0 in 0.0040094852447509766s\n",
      "User 0 choosing item 0 with p_t=1.0371312907784842 reward 1\n",
      "User 3 choosing item 3 with p_t=1.0064264929106335 reward 1\n",
      "User 4 choosing item 0 with p_t=1.0201402223475293 reward 1\n",
      "User 1 choosing item 9 with p_t=1.013208295815725 reward 1\n",
      "User 2 choosing item 2 with p_t=0.994868329805052 reward 1\n",
      "Finished epoch 9/10 with avg reward 1.0 in 0.003993034362792969s\n"
     ]
    }
   ],
   "source": [
    "avg_reward = ucb.run(num_epochs=10)"
   ]
  },
  {
   "cell_type": "code",
   "execution_count": 8,
   "metadata": {
    "collapsed": false
   },
   "outputs": [
    {
     "data": {
      "text/plain": [
       "<matplotlib.text.Text at 0x14fefef2198>"
      ]
     },
     "execution_count": 8,
     "metadata": {},
     "output_type": "execute_result"
    },
    {
     "data": {
      "image/png": "[encoded data removed]",
      "text/plain": [
       "<matplotlib.figure.Figure at 0x14fefeb89e8>"
      ]
     },
     "metadata": {},
     "output_type": "display_data"
    }
   ],
   "source": [
    "plt.plot(range(len(avg_reward)), avg_reward)\n",
    "plt.ylabel('avg reward')\n",
    "plt.xlabel('epoch (1 epoch = recommended to all users)')\n",
    "plt.title('Average reward per epoch')"
   ]
  },
  {
   "cell_type": "code",
   "execution_count": null,
   "metadata": {
    "collapsed": true
   },
   "outputs": [],
   "source": []
  }
 ],
 "metadata": {
  "kernelspec": {
   "display_name": "Python 3",
   "language": "python",
   "name": "python3"
  },
  "language_info": {
   "codemirror_mode": {
    "name": "ipython",
    "version": 3
   },
   "file_extension": ".py",
   "mimetype": "text/x-python",
   "name": "python",
   "nbconvert_exporter": "python",
   "pygments_lexer": "ipython3",
   "version": "3.6.0"
  }
 },
 "nbformat": 4,
 "nbformat_minor": 2
}
