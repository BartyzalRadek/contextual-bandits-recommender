{
 "cells": [
  {
   "cell_type": "code",
   "execution_count": 1,
   "metadata": {
    "collapsed": true
   },
   "outputs": [],
   "source": [
    "%matplotlib inline\n",
    "\n",
    "from movielens import MovieLens\n",
    "from linUCB import LinUCB\n",
    "import numpy as np\n",
    "import matplotlib.pyplot as plt"
   ]
  },
  {
   "cell_type": "code",
   "execution_count": 2,
   "metadata": {
    "collapsed": false
   },
   "outputs": [
    {
     "name": "stdout",
     "output_type": "stream",
     "text": [
      "data\\movielens\\ml-100k.zip is already downloaded.\n",
      "Created a rating matrix of shape=(943, 1682) and dtype=float64 from u.data.\n",
      "Positive ratings (>=4) turned to 1, negative to -1, unknown to 0\n",
      "Created a genre matrix of shape=(1682, 19) and dtype=float64 from u.item.\n",
      "Created a titles matrix of shape=(1682,) and dtype=object from u.item.\n",
      "Statistics about self.R:\n",
      "Number of users:           943\n",
      "Number of items:           1682\n",
      "Total number of ratings:   1586126\n",
      "Known ratings:             100000\n",
      "Known positive ratings:    55375\n",
      "Known negative ratings:    44625\n",
      "Ratio of known ratings:    0.06304669364224531\n",
      "Ratio of positive ratings: 0.034912106604393346\n",
      "Ratio of negative ratings: 0.028134587037851974\n",
      "Avg number of positive ratings per user: 58.72216330858961 +- 54.67211827074995\n",
      "Avg number of negative ratings per user: 47.32237539766702 +- 58.41143787053165\n",
      "Shrinked rating matrix from (943, 1682) to (56, 100).\n",
      "\n",
      "After shrinking:\n",
      "Number of users:           56\n",
      "Number of items:           100\n",
      "Total number of ratings:   5600\n",
      "Known ratings:             903\n",
      "Known positive ratings:    606\n",
      "Known negative ratings:    297\n",
      "Ratio of known ratings:    0.16125\n",
      "Ratio of positive ratings: 0.10821428571428572\n",
      "Ratio of negative ratings: 0.05303571428571428\n",
      "Avg number of positive ratings per user: 10.821428571428571 +- 11.918034268130233\n",
      "Avg number of negative ratings per user: 5.303571428571429 +- 8.209140469312118\n",
      "\n",
      "Initializing matrix A of shape (100, 119, 119) which will require 11.3288MB of memory.\n",
      "\n",
      "LinUCB successfully initialized.\n"
     ]
    }
   ],
   "source": [
    "ucb = LinUCB(alpha=0.1, dataset=None, max_items=100, allow_selecting_known_arms=True)"
   ]
  },
  {
   "cell_type": "code",
   "execution_count": 3,
   "metadata": {
    "collapsed": false
   },
   "outputs": [
    {
     "name": "stdout",
     "output_type": "stream",
     "text": [
      "R:\n",
      " [[ 1. -1.  1. ...,  1. -1.  1.]\n",
      " [ 1.  0.  0. ...,  0.  0.  1.]\n",
      " [ 0.  0.  0. ...,  0.  0.  0.]\n",
      " ..., \n",
      " [ 1.  0.  0. ...,  0.  0.  1.]\n",
      " [ 0.  0.  0. ...,  0.  0.  0.]\n",
      " [ 1.  0.  0. ...,  1.  0.  0.]]\n"
     ]
    }
   ],
   "source": [
    "print('R:\\n', ucb.dataset.R)"
   ]
  },
  {
   "cell_type": "code",
   "execution_count": 4,
   "metadata": {
    "collapsed": false
   },
   "outputs": [
    {
     "name": "stdout",
     "output_type": "stream",
     "text": [
      "Finished epoch 0/50 with avg reward 0.625 in 1.4887607097625732s\n",
      "Finished epoch 1/50 with avg reward 0.6428571428571429 in 1.4338979721069336s\n",
      "Finished epoch 2/50 with avg reward 0.6964285714285714 in 1.4251909255981445s\n",
      "Finished epoch 3/50 with avg reward 0.75 in 1.5029664039611816s\n",
      "Finished epoch 4/50 with avg reward 0.75 in 1.4355623722076416s\n",
      "Finished epoch 5/50 with avg reward 0.8392857142857143 in 1.453249454498291s\n",
      "Finished epoch 6/50 with avg reward 0.8392857142857143 in 1.4837923049926758s\n",
      "Finished epoch 7/50 with avg reward 0.875 in 1.4759297370910645s\n",
      "Finished epoch 8/50 with avg reward 0.8571428571428571 in 1.4780349731445312s\n",
      "Finished epoch 9/50 with avg reward 0.875 in 1.4613678455352783s\n",
      "Finished epoch 10/50 with avg reward 0.8571428571428571 in 1.4692187309265137s\n",
      "Finished epoch 11/50 with avg reward 0.9107142857142857 in 1.4498498439788818s\n",
      "Finished epoch 12/50 with avg reward 0.8928571428571429 in 1.4294922351837158s\n",
      "Finished epoch 13/50 with avg reward 0.9107142857142857 in 1.409026861190796s\n",
      "Finished epoch 14/50 with avg reward 0.9107142857142857 in 1.4488627910614014s\n",
      "Finished epoch 15/50 with avg reward 0.9285714285714286 in 1.455726146697998s\n",
      "Finished epoch 16/50 with avg reward 0.9285714285714286 in 1.4541819095611572s\n",
      "Finished epoch 17/50 with avg reward 0.9285714285714286 in 1.4274232387542725s\n",
      "Finished epoch 18/50 with avg reward 0.9285714285714286 in 1.4744689464569092s\n",
      "Finished epoch 19/50 with avg reward 0.9464285714285714 in 1.5098316669464111s\n",
      "Finished epoch 20/50 with avg reward 0.9464285714285714 in 1.5258421897888184s\n",
      "Finished epoch 21/50 with avg reward 0.9464285714285714 in 1.5231266021728516s\n",
      "Finished epoch 22/50 with avg reward 0.9464285714285714 in 1.5249114036560059s\n",
      "Finished epoch 23/50 with avg reward 0.9642857142857143 in 1.4033203125s\n",
      "Finished epoch 24/50 with avg reward 0.9464285714285714 in 1.4178762435913086s\n",
      "Finished epoch 25/50 with avg reward 0.9642857142857143 in 1.459951400756836s\n",
      "Finished epoch 26/50 with avg reward 0.9642857142857143 in 1.4520235061645508s\n",
      "Finished epoch 27/50 with avg reward 0.9821428571428571 in 1.4376130104064941s\n",
      "Finished epoch 28/50 with avg reward 0.9821428571428571 in 1.4831252098083496s\n",
      "Finished epoch 29/50 with avg reward 0.9821428571428571 in 1.42203688621521s\n",
      "Finished epoch 30/50 with avg reward 0.9821428571428571 in 1.4544670581817627s\n",
      "Finished epoch 31/50 with avg reward 0.9821428571428571 in 1.435500144958496s\n",
      "Finished epoch 32/50 with avg reward 0.9821428571428571 in 1.4190068244934082s\n",
      "Finished epoch 33/50 with avg reward 0.9821428571428571 in 1.4479093551635742s\n",
      "Finished epoch 34/50 with avg reward 1.0 in 1.4530236721038818s\n",
      "Finished epoch 35/50 with avg reward 1.0 in 1.4149670600891113s\n",
      "Finished epoch 36/50 with avg reward 1.0 in 1.4615418910980225s\n",
      "Finished epoch 37/50 with avg reward 1.0 in 1.4396967887878418s\n",
      "Finished epoch 38/50 with avg reward 1.0 in 1.3964591026306152s\n",
      "Finished epoch 39/50 with avg reward 1.0 in 1.453667402267456s\n",
      "Finished epoch 40/50 with avg reward 1.0 in 1.4658706188201904s\n",
      "Finished epoch 41/50 with avg reward 1.0 in 1.416656255722046s\n",
      "Finished epoch 42/50 with avg reward 1.0 in 1.4440317153930664s\n",
      "Finished epoch 43/50 with avg reward 1.0 in 1.4234850406646729s\n",
      "Finished epoch 44/50 with avg reward 1.0 in 1.4831230640411377s\n",
      "Finished epoch 45/50 with avg reward 1.0 in 1.4375503063201904s\n",
      "Finished epoch 46/50 with avg reward 1.0 in 1.483747959136963s\n",
      "Finished epoch 47/50 with avg reward 1.0 in 1.5337486267089844s\n",
      "Finished epoch 48/50 with avg reward 1.0 in 1.4665648937225342s\n",
      "Finished epoch 49/50 with avg reward 1.0 in 1.4390501976013184s\n"
     ]
    }
   ],
   "source": [
    "avg_reward = ucb.run(num_epochs=50)"
   ]
  },
  {
   "cell_type": "code",
   "execution_count": 6,
   "metadata": {
    "collapsed": false
   },
   "outputs": [
    {
     "data": {
      "text/plain": [
       "<matplotlib.text.Text at 0x250a42eeeb8>"
      ]
     },
     "execution_count": 6,
     "metadata": {},
     "output_type": "execute_result"
    },
    {
     "data": {
      "image/png": "[encoded data removed]",
      "text/plain": [
       "<matplotlib.figure.Figure at 0x250a429f400>"
      ]
     },
     "metadata": {},
     "output_type": "display_data"
    }
   ],
   "source": [
    "plt.plot(range(len(avg_reward)), avg_reward)\n",
    "plt.ylabel('avg reward')\n",
    "plt.xlabel('epoch (1 epoch = recommended to all users)')\n",
    "plt.title('LinUCB: Average reward per epoch')"
   ]
  },
  {
   "cell_type": "code",
   "execution_count": null,
   "metadata": {
    "collapsed": true
   },
   "outputs": [],
   "source": []
  }
 ],
 "metadata": {
  "kernelspec": {
   "display_name": "Python 3",
   "language": "python",
   "name": "python3"
  },
  "language_info": {
   "codemirror_mode": {
    "name": "ipython",
    "version": 3
   },
   "file_extension": ".py",
   "mimetype": "text/x-python",
   "name": "python",
   "nbconvert_exporter": "python",
   "pygments_lexer": "ipython3",
   "version": "3.6.0"
  }
 },
 "nbformat": 4,
 "nbformat_minor": 2
}
