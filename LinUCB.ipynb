{
 "cells": [
  {
   "cell_type": "code",
   "execution_count": 1,
   "metadata": {
    "collapsed": true
   },
   "outputs": [],
   "source": [
    "%matplotlib inline\n",
    "\n",
    "from movielens import MovieLens\n",
    "from linUCB import LinUCB\n",
    "import numpy as np\n",
    "import matplotlib.pyplot as plt"
   ]
  },
  {
   "cell_type": "code",
   "execution_count": 2,
   "metadata": {
    "collapsed": false
   },
   "outputs": [
    {
     "name": "stdout",
     "output_type": "stream",
     "text": [
      "data\\movielens\\ml-100k.zip is already downloaded.\n",
      "Created a rating matrix of shape=(943, 1682) and dtype=float64 from u.data.\n",
      "Positive ratings (>=4) turned to 1, negative to -1, unknown to 0\n",
      "Created a genre matrix of shape=(1682, 19) and dtype=float64 from u.item.\n",
      "Created a titles matrix of shape=(1682,) and dtype=object from u.item.\n",
      "Statistics about self.R:\n",
      "Number of users:           943\n",
      "Number of items:           1682\n",
      "Total number of ratings:   1586126\n",
      "Known ratings:             100000\n",
      "Known positive ratings:    55375\n",
      "Known negative ratings:    44625\n",
      "Ratio of known ratings:    0.06304669364224531\n",
      "Ratio of positive ratings: 0.034912106604393346\n",
      "Ratio of negative ratings: 0.028134587037851974\n",
      "Avg number of positive ratings per user: 58.72216330858961 +- 54.67211827074995\n",
      "Avg number of negative ratings per user: 47.32237539766702 +- 58.41143787053165\n",
      "Shrinked rating matrix from (943, 1682) to (56, 100).\n",
      "\n",
      "After shrinking:\n",
      "Number of users:           56\n",
      "Number of items:           100\n",
      "Total number of ratings:   5600\n",
      "Known ratings:             903\n",
      "Known positive ratings:    606\n",
      "Known negative ratings:    297\n",
      "Ratio of known ratings:    0.16125\n",
      "Ratio of positive ratings: 0.10821428571428572\n",
      "Ratio of negative ratings: 0.05303571428571428\n",
      "Avg number of positive ratings per user: 10.821428571428571 +- 11.918034268130233\n",
      "Avg number of negative ratings per user: 5.303571428571429 +- 8.209140469312118\n",
      "\n",
      "Initializing matrix A of shape (100, 119, 119) which will require 11.3288MB of memory.\n",
      "\n",
      "LinUCB successfully initialized.\n"
     ]
    }
   ],
   "source": [
    "ucb = LinUCB(alpha=0.1, dataset=None, max_items=100, allow_selecting_known_arms=True)"
   ]
  },
  {
   "cell_type": "code",
   "execution_count": 3,
   "metadata": {
    "collapsed": false
   },
   "outputs": [
    {
     "name": "stdout",
     "output_type": "stream",
     "text": [
      "R:\n",
      " [[ 1. -1.  1. ...,  1. -1.  1.]\n",
      " [ 1.  0.  0. ...,  0.  0.  1.]\n",
      " [ 0.  0.  0. ...,  0.  0.  0.]\n",
      " ..., \n",
      " [ 1.  0.  0. ...,  0.  0.  1.]\n",
      " [ 0.  0.  0. ...,  0.  0.  0.]\n",
      " [ 1.  0.  0. ...,  1.  0.  0.]]\n"
     ]
    }
   ],
   "source": [
    "print('R:\\n', ucb.dataset.R)"
   ]
  },
  {
   "cell_type": "code",
   "execution_count": 4,
   "metadata": {
    "collapsed": false
   },
   "outputs": [
    {
     "name": "stdout",
     "output_type": "stream",
     "text": [
      "Finished epoch 0/50 with avg reward 0.6071428571428571 in 1.552785873413086s\n",
      "Finished epoch 1/50 with avg reward 0.6607142857142857 in 1.503936767578125s\n",
      "Finished epoch 2/50 with avg reward 0.6607142857142857 in 1.4646108150482178s\n",
      "Finished epoch 3/50 with avg reward 0.75 in 1.5237205028533936s\n",
      "Finished epoch 4/50 with avg reward 0.7857142857142857 in 1.512455940246582s\n",
      "Finished epoch 5/50 with avg reward 0.7678571428571429 in 1.4529874324798584s\n",
      "Finished epoch 6/50 with avg reward 0.75 in 1.4491147994995117s\n",
      "Finished epoch 7/50 with avg reward 0.7857142857142857 in 1.452491283416748s\n",
      "Finished epoch 8/50 with avg reward 0.7857142857142857 in 1.4747285842895508s\n",
      "Finished epoch 9/50 with avg reward 0.8035714285714286 in 1.5306973457336426s\n",
      "Finished epoch 10/50 with avg reward 0.8392857142857143 in 1.6003155708312988s\n",
      "Finished epoch 11/50 with avg reward 0.8571428571428571 in 1.5510241985321045s\n",
      "Finished epoch 12/50 with avg reward 0.8392857142857143 in 1.5619399547576904s\n",
      "Finished epoch 13/50 with avg reward 0.8571428571428571 in 1.480229139328003s\n",
      "Finished epoch 14/50 with avg reward 0.8571428571428571 in 1.5599474906921387s\n",
      "Finished epoch 15/50 with avg reward 0.8571428571428571 in 1.5314569473266602s\n",
      "Finished epoch 16/50 with avg reward 0.8571428571428571 in 1.5440802574157715s\n",
      "Finished epoch 17/50 with avg reward 0.8571428571428571 in 1.518200159072876s\n",
      "Finished epoch 18/50 with avg reward 0.8928571428571429 in 1.4871973991394043s\n",
      "Finished epoch 19/50 with avg reward 0.8928571428571429 in 1.4307353496551514s\n",
      "Finished epoch 20/50 with avg reward 0.8928571428571429 in 1.4712302684783936s\n",
      "Finished epoch 21/50 with avg reward 0.8928571428571429 in 1.561948537826538s\n",
      "Finished epoch 22/50 with avg reward 0.875 in 1.5917258262634277s\n",
      "Finished epoch 23/50 with avg reward 0.8928571428571429 in 1.5000195503234863s\n",
      "Finished epoch 24/50 with avg reward 0.8928571428571429 in 1.4894251823425293s\n",
      "Finished epoch 25/50 with avg reward 0.8928571428571429 in 1.4842913150787354s\n",
      "Finished epoch 26/50 with avg reward 0.8928571428571429 in 1.5156621932983398s\n",
      "Finished epoch 27/50 with avg reward 0.8928571428571429 in 1.4598205089569092s\n",
      "Finished epoch 28/50 with avg reward 0.9107142857142857 in 1.5435237884521484s\n",
      "Finished epoch 29/50 with avg reward 0.9107142857142857 in 1.5571162700653076s\n",
      "Finished epoch 30/50 with avg reward 0.9107142857142857 in 1.4766385555267334s\n",
      "Finished epoch 31/50 with avg reward 0.9107142857142857 in 1.479438066482544s\n",
      "Finished epoch 32/50 with avg reward 0.9107142857142857 in 1.5288116931915283s\n",
      "Finished epoch 33/50 with avg reward 0.9107142857142857 in 1.4459714889526367s\n",
      "Finished epoch 34/50 with avg reward 0.9107142857142857 in 1.4856929779052734s\n",
      "Finished epoch 35/50 with avg reward 0.9107142857142857 in 1.5330607891082764s\n",
      "Finished epoch 36/50 with avg reward 0.9107142857142857 in 1.483243465423584s\n",
      "Finished epoch 37/50 with avg reward 0.9107142857142857 in 1.440375804901123s\n",
      "Finished epoch 38/50 with avg reward 0.9107142857142857 in 1.4579293727874756s\n",
      "Finished epoch 39/50 with avg reward 0.9107142857142857 in 1.446725606918335s\n",
      "Finished epoch 40/50 with avg reward 0.9107142857142857 in 1.5060577392578125s\n",
      "Finished epoch 41/50 with avg reward 0.9107142857142857 in 1.5212090015411377s\n",
      "Finished epoch 42/50 with avg reward 0.9107142857142857 in 1.4816653728485107s\n",
      "Finished epoch 43/50 with avg reward 0.9107142857142857 in 1.459599256515503s\n",
      "Finished epoch 44/50 with avg reward 0.9107142857142857 in 1.4446063041687012s\n",
      "Finished epoch 45/50 with avg reward 0.9107142857142857 in 1.5518925189971924s\n",
      "Finished epoch 46/50 with avg reward 0.9285714285714286 in 1.4647176265716553s\n",
      "Finished epoch 47/50 with avg reward 0.9285714285714286 in 1.55332612991333s\n",
      "Finished epoch 48/50 with avg reward 0.9285714285714286 in 1.4004156589508057s\n",
      "Finished epoch 49/50 with avg reward 0.9285714285714286 in 1.4852497577667236s\n"
     ]
    }
   ],
   "source": [
    "avg_reward = ucb.run(num_epochs=50)"
   ]
  },
  {
   "cell_type": "code",
   "execution_count": 28,
   "metadata": {
    "collapsed": false
   },
   "outputs": [
    {
     "data": {
      "text/plain": [
       "<matplotlib.text.Text at 0x13bdfee8828>"
      ]
     },
     "execution_count": 28,
     "metadata": {},
     "output_type": "execute_result"
    },
    {
     "data": {
      "image/png": "[encoded data removed]",
      "text/plain": [
       "<matplotlib.figure.Figure at 0x13bdfe90668>"
      ]
     },
     "metadata": {},
     "output_type": "display_data"
    }
   ],
   "source": [
    "from matplotlib.pylab import rcParams\n",
    "rcParams['figure.figsize'] = 7, 5\n",
    "plt.plot(range(len(avg_reward)), avg_reward)\n",
    "plt.ylabel('average reward in epoch')\n",
    "plt.ylim(0.2, 1)\n",
    "plt.xlabel('epoch (1 epoch = recommended to all users)')\n",
    "plt.title('LinUCB: Fixed rewards')"
   ]
  },
  {
   "cell_type": "code",
   "execution_count": 6,
   "metadata": {
    "collapsed": false
   },
   "outputs": [
    {
     "name": "stdout",
     "output_type": "stream",
     "text": [
      "data\\movielens\\ml-100k.zip is already downloaded.\n",
      "Created a rating matrix of shape=(943, 1682) and dtype=float64 from u.data.\n",
      "Positive ratings (>=4) turned to 1, negative to -1, unknown to 0\n",
      "Created a genre matrix of shape=(1682, 19) and dtype=float64 from u.item.\n",
      "Created a titles matrix of shape=(1682,) and dtype=object from u.item.\n",
      "Statistics about self.R:\n",
      "Number of users:           943\n",
      "Number of items:           1682\n",
      "Total number of ratings:   1586126\n",
      "Known ratings:             100000\n",
      "Known positive ratings:    55375\n",
      "Known negative ratings:    44625\n",
      "Ratio of known ratings:    0.06304669364224531\n",
      "Ratio of positive ratings: 0.034912106604393346\n",
      "Ratio of negative ratings: 0.028134587037851974\n",
      "Avg number of positive ratings per user: 58.72216330858961 +- 54.67211827074995\n",
      "Avg number of negative ratings per user: 47.32237539766702 +- 58.41143787053165\n",
      "Shrinked rating matrix from (943, 1682) to (56, 100).\n",
      "\n",
      "After shrinking:\n",
      "Number of users:           56\n",
      "Number of items:           100\n",
      "Total number of ratings:   5600\n",
      "Known ratings:             903\n",
      "Known positive ratings:    606\n",
      "Known negative ratings:    297\n",
      "Ratio of known ratings:    0.16125\n",
      "Ratio of positive ratings: 0.10821428571428572\n",
      "Ratio of negative ratings: 0.05303571428571428\n",
      "Avg number of positive ratings per user: 10.821428571428571 +- 11.918034268130233\n",
      "Avg number of negative ratings per user: 5.303571428571429 +- 8.209140469312118\n",
      "\n",
      "Initializing matrix A of shape (100, 119, 119) which will require 11.3288MB of memory.\n",
      "\n",
      "LinUCB successfully initialized.\n"
     ]
    }
   ],
   "source": [
    "ucb_stochastic = LinUCB(alpha=0.1, dataset=None, max_items=100, \n",
    "                        allow_selecting_known_arms=True, fixed_rewards=False, prob_reward_p=0.9)"
   ]
  },
  {
   "cell_type": "code",
   "execution_count": 7,
   "metadata": {
    "collapsed": false
   },
   "outputs": [
    {
     "name": "stdout",
     "output_type": "stream",
     "text": [
      "R:\n",
      " [[ 1. -1.  1. ...,  1. -1.  1.]\n",
      " [ 1.  0.  0. ...,  0.  0.  1.]\n",
      " [ 0.  0.  0. ...,  0.  0.  0.]\n",
      " ..., \n",
      " [ 1.  0.  0. ...,  0.  0.  1.]\n",
      " [ 0.  0.  0. ...,  0.  0.  0.]\n",
      " [ 1.  0.  0. ...,  1.  0.  0.]]\n"
     ]
    }
   ],
   "source": [
    "print('R:\\n', ucb_stochastic.dataset.R)"
   ]
  },
  {
   "cell_type": "code",
   "execution_count": 8,
   "metadata": {
    "collapsed": false
   },
   "outputs": [
    {
     "name": "stdout",
     "output_type": "stream",
     "text": [
      "Finished epoch 0/50 with avg reward 0.42857142857142855 in 1.423952579498291s\n",
      "Finished epoch 1/50 with avg reward 0.5535714285714286 in 1.4462800025939941s\n",
      "Finished epoch 2/50 with avg reward 0.5178571428571429 in 1.4531726837158203s\n",
      "Finished epoch 3/50 with avg reward 0.6428571428571429 in 1.4564926624298096s\n",
      "Finished epoch 4/50 with avg reward 0.6785714285714286 in 1.4292511940002441s\n",
      "Finished epoch 5/50 with avg reward 0.6785714285714286 in 1.4329595565795898s\n",
      "Finished epoch 6/50 with avg reward 0.6071428571428571 in 1.5166280269622803s\n",
      "Finished epoch 7/50 with avg reward 0.7142857142857143 in 1.5158579349517822s\n",
      "Finished epoch 8/50 with avg reward 0.7321428571428571 in 1.5242359638214111s\n",
      "Finished epoch 9/50 with avg reward 0.6785714285714286 in 1.4195635318756104s\n",
      "Finished epoch 10/50 with avg reward 0.75 in 1.423771858215332s\n",
      "Finished epoch 11/50 with avg reward 0.8035714285714286 in 1.5463316440582275s\n",
      "Finished epoch 12/50 with avg reward 0.8035714285714286 in 1.5004987716674805s\n",
      "Finished epoch 13/50 with avg reward 0.75 in 1.4027862548828125s\n",
      "Finished epoch 14/50 with avg reward 0.7321428571428571 in 1.5803709030151367s\n",
      "Finished epoch 15/50 with avg reward 0.7678571428571429 in 1.541501760482788s\n",
      "Finished epoch 16/50 with avg reward 0.8392857142857143 in 1.5591683387756348s\n",
      "Finished epoch 17/50 with avg reward 0.8214285714285714 in 1.4493193626403809s\n",
      "Finished epoch 18/50 with avg reward 0.75 in 1.446549654006958s\n",
      "Finished epoch 19/50 with avg reward 0.8392857142857143 in 1.465177059173584s\n",
      "Finished epoch 20/50 with avg reward 0.7857142857142857 in 1.466484785079956s\n",
      "Finished epoch 21/50 with avg reward 0.8392857142857143 in 1.4695732593536377s\n",
      "Finished epoch 22/50 with avg reward 0.875 in 1.4436159133911133s\n",
      "Finished epoch 23/50 with avg reward 0.8392857142857143 in 1.502685546875s\n",
      "Finished epoch 24/50 with avg reward 0.8392857142857143 in 1.5135478973388672s\n",
      "Finished epoch 25/50 with avg reward 0.7678571428571429 in 1.4488627910614014s\n",
      "Finished epoch 26/50 with avg reward 0.8392857142857143 in 1.4726719856262207s\n",
      "Finished epoch 27/50 with avg reward 0.8571428571428571 in 1.4377691745758057s\n",
      "Finished epoch 28/50 with avg reward 0.8392857142857143 in 1.4314370155334473s\n",
      "Finished epoch 29/50 with avg reward 0.875 in 1.4730243682861328s\n",
      "Finished epoch 30/50 with avg reward 0.875 in 1.5121488571166992s\n",
      "Finished epoch 31/50 with avg reward 0.9107142857142857 in 1.4472377300262451s\n",
      "Finished epoch 32/50 with avg reward 0.9107142857142857 in 1.521090030670166s\n",
      "Finished epoch 33/50 with avg reward 0.875 in 1.419341802597046s\n",
      "Finished epoch 34/50 with avg reward 0.8571428571428571 in 1.5445048809051514s\n",
      "Finished epoch 35/50 with avg reward 0.875 in 1.5442349910736084s\n",
      "Finished epoch 36/50 with avg reward 0.8928571428571429 in 1.5073223114013672s\n",
      "Finished epoch 37/50 with avg reward 0.8928571428571429 in 1.4788422584533691s\n",
      "Finished epoch 38/50 with avg reward 0.9107142857142857 in 1.510094404220581s\n",
      "Finished epoch 39/50 with avg reward 0.8571428571428571 in 1.639073133468628s\n",
      "Finished epoch 40/50 with avg reward 0.875 in 1.602083683013916s\n",
      "Finished epoch 41/50 with avg reward 0.8392857142857143 in 1.536860704421997s\n",
      "Finished epoch 42/50 with avg reward 0.8392857142857143 in 1.6031217575073242s\n",
      "Finished epoch 43/50 with avg reward 0.8035714285714286 in 1.495967149734497s\n",
      "Finished epoch 44/50 with avg reward 0.875 in 1.4956600666046143s\n",
      "Finished epoch 45/50 with avg reward 0.8214285714285714 in 1.5254406929016113s\n",
      "Finished epoch 46/50 with avg reward 0.8214285714285714 in 1.5300877094268799s\n",
      "Finished epoch 47/50 with avg reward 0.8928571428571429 in 1.4529578685760498s\n",
      "Finished epoch 48/50 with avg reward 0.875 in 1.4527220726013184s\n",
      "Finished epoch 49/50 with avg reward 0.8392857142857143 in 1.4494407176971436s\n"
     ]
    }
   ],
   "source": [
    "avg_reward_stochastic = ucb_stochastic.run(num_epochs=50)"
   ]
  },
  {
   "cell_type": "code",
   "execution_count": 29,
   "metadata": {
    "collapsed": false
   },
   "outputs": [
    {
     "data": {
      "text/plain": [
       "<matplotlib.text.Text at 0x13bdff79cc0>"
      ]
     },
     "execution_count": 29,
     "metadata": {},
     "output_type": "execute_result"
    },
    {
     "data": {
      "image/png": "[encoded data removed]",
      "text/plain": [
       "<matplotlib.figure.Figure at 0x13bdfe99198>"
      ]
     },
     "metadata": {},
     "output_type": "display_data"
    }
   ],
   "source": [
    "plt.plot(range(len(avg_reward_stochastic)), avg_reward_stochastic)\n",
    "plt.ylabel('average reward in epoch')\n",
    "plt.ylim(0.2, 1)\n",
    "plt.xlabel('epoch (1 epoch = recommended to all users)')\n",
    "plt.title('LinUCB: Stochastic rewards with p=0.9')"
   ]
  },
  {
   "cell_type": "code",
   "execution_count": null,
   "metadata": {
    "collapsed": true
   },
   "outputs": [],
   "source": []
  }
 ],
 "metadata": {
  "kernelspec": {
   "display_name": "Python 3",
   "language": "python",
   "name": "python3"
  },
  "language_info": {
   "codemirror_mode": {
    "name": "ipython",
    "version": 3
   },
   "file_extension": ".py",
   "mimetype": "text/x-python",
   "name": "python",
   "nbconvert_exporter": "python",
   "pygments_lexer": "ipython3",
   "version": "3.6.0"
  }
 },
 "nbformat": 4,
 "nbformat_minor": 2
}
